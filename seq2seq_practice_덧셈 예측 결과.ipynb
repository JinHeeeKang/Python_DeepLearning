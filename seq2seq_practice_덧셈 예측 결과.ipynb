{
  "nbformat": 4,
  "nbformat_minor": 0,
  "metadata": {
    "colab": {
      "name": "seq2seq_practice 결과까지 끝까지.ipynb",
      "provenance": [],
      "collapsed_sections": [],
      "include_colab_link": true
    },
    "kernelspec": {
      "name": "python3",
      "display_name": "Python 3"
    },
    "accelerator": "GPU"
  },
  "cells": [
    {
      "cell_type": "markdown",
      "metadata": {
        "id": "view-in-github",
        "colab_type": "text"
      },
      "source": [
        "<a href=\"https://colab.research.google.com/github/JinHeeeKang/Python_DeepLearning/blob/master/seq2seq_practice_%EB%8D%A7%EC%85%88%20%EC%98%88%EC%B8%A1%20%EA%B2%B0%EA%B3%BC.ipynb\" target=\"_parent\"><img src=\"https://colab.research.google.com/assets/colab-badge.svg\" alt=\"Open In Colab\"/></a>"
      ]
    },
    {
      "cell_type": "markdown",
      "metadata": {
        "id": "HLo2DV6D52eH"
      },
      "source": [
        "* 덧셈 데이터 구성\n",
        "* seq2seq Encoder / Decoder 정의\n",
        "* 학습\n",
        "* 평가 (예측)"
      ]
    },
    {
      "cell_type": "markdown",
      "metadata": {
        "id": "sZWGDeYc5-kV"
      },
      "source": [
        "## 덧셈 데이터 구성"
      ]
    },
    {
      "cell_type": "code",
      "metadata": {
        "id": "scmpb8sP5uXP"
      },
      "source": [
        "# 최대 세자리수끼리 합을 구하는 데이터"
      ],
      "execution_count": null,
      "outputs": []
    },
    {
      "cell_type": "code",
      "metadata": {
        "id": "h3U23zLN6KoM"
      },
      "source": [
        "import numpy as np"
      ],
      "execution_count": null,
      "outputs": []
    },
    {
      "cell_type": "code",
      "metadata": {
        "id": "Yl9fTkEp6LcH"
      },
      "source": [
        "# 99 + 1 => '9','9','+','1'"
      ],
      "execution_count": null,
      "outputs": []
    },
    {
      "cell_type": "code",
      "metadata": {
        "id": "ZXTggaze8Twm"
      },
      "source": [
        "def get_sum_dict():\n",
        "  items = list(str(x) for x in range(10))\n",
        "  items.append('_')\n",
        "  items.append('+')\n",
        "\n",
        "  id_to_item = {}\n",
        "  for idx, item in enumerate(items):\n",
        "    id_to_item[idx]=item\n",
        "  \n",
        "  item_to_id = dict([(value, key) for key, value in id_to_item.items()])\n",
        "\n",
        "  return id_to_item, item_to_id"
      ],
      "execution_count": null,
      "outputs": []
    },
    {
      "cell_type": "code",
      "metadata": {
        "id": "dCYYlfqD98-2"
      },
      "source": [
        "def convert_item_to_id(items, item_to_id):\n",
        "  ids = list([item_to_id[item] for item in items])\n",
        "  return ids\n",
        "\n",
        "def convert_id_to_item(ids, id_to_item):\n",
        "  items = list([id_to_item[id] for id in ids])\n",
        "  return items"
      ],
      "execution_count": null,
      "outputs": []
    },
    {
      "cell_type": "code",
      "metadata": {
        "id": "Epo2vlgZ9ANe"
      },
      "source": [
        "def sum_data_gen():\n",
        "  num1 = np.random.randint(0,1000)\n",
        "  num2 = np.random.randint(0,1000)\n",
        "  ans = num1 + num2\n",
        "  q_str = str(num1) + '+' + str(num2)\n",
        "  a_str = '_' + str(ans).zfill(4)\n",
        "  return list(q_str), list(a_str)"
      ],
      "execution_count": null,
      "outputs": []
    },
    {
      "cell_type": "code",
      "metadata": {
        "id": "7_zhoQ2I-8QB"
      },
      "source": [
        "def get_dataset(data_num=100):\n",
        "  id_to_item, item_to_id = get_sum_dict()\n",
        "  xs = []\n",
        "  ys = []\n",
        "  for i in range(data_num):\n",
        "    x, y = sum_data_gen()\n",
        "    xs.append(convert_item_to_id(x, item_to_id))\n",
        "    ys.append(convert_item_to_id(y, item_to_id))\n",
        "  return xs, ys   "
      ],
      "execution_count": null,
      "outputs": []
    },
    {
      "cell_type": "code",
      "metadata": {
        "id": "e3P5Fxbe_S3K"
      },
      "source": [
        "train_x, train_y = get_dataset(data_num=20000)\n",
        "test_x, test_y = get_dataset(data_num=10000)\n",
        "id_to_item, item_to_id = get_sum_dict()"
      ],
      "execution_count": null,
      "outputs": []
    },
    {
      "cell_type": "code",
      "metadata": {
        "id": "7iCa9OEHYYDY",
        "outputId": "0a8f5c7d-2a89-4336-d963-ee4ef88ad6d3",
        "colab": {
          "base_uri": "https://localhost:8080/",
          "height": 35
        }
      },
      "source": [
        "train_x[0],train_y[0]"
      ],
      "execution_count": null,
      "outputs": [
        {
          "output_type": "execute_result",
          "data": {
            "text/plain": [
              "([2, 5, 4, 11, 9, 2, 7], [10, 1, 1, 8, 1])"
            ]
          },
          "metadata": {
            "tags": []
          },
          "execution_count": 85
        }
      ]
    },
    {
      "cell_type": "code",
      "metadata": {
        "id": "7GCsXPHXYgNW",
        "outputId": "6608cf2f-b6ae-4a13-d426-831b398fa46a",
        "colab": {
          "base_uri": "https://localhost:8080/",
          "height": 35
        }
      },
      "source": [
        "convert_id_to_item(train_x[0], id_to_item)"
      ],
      "execution_count": null,
      "outputs": [
        {
          "output_type": "execute_result",
          "data": {
            "text/plain": [
              "['2', '5', '4', '+', '9', '2', '7']"
            ]
          },
          "metadata": {
            "tags": []
          },
          "execution_count": 86
        }
      ]
    },
    {
      "cell_type": "code",
      "metadata": {
        "id": "bIMGE0x7AR7C"
      },
      "source": [
        "import tensorflow as tf"
      ],
      "execution_count": null,
      "outputs": []
    },
    {
      "cell_type": "code",
      "metadata": {
        "id": "0vq9YxB6AoJf"
      },
      "source": [
        "from tensorflow.keras.layers import Input, LSTM, Embedding, Dense\n",
        "from tensorflow.keras.models import Model, Sequential\n",
        "from tensorflow.keras.preprocessing.sequence import pad_sequences\n",
        "from tensorflow.keras.utils import to_categorical"
      ],
      "execution_count": null,
      "outputs": []
    },
    {
      "cell_type": "code",
      "metadata": {
        "id": "_LItE7KwBWYm"
      },
      "source": [
        "# Source data의 단어 수 & Target data의 단어 수 정의 \n",
        "src_vocab_size = len(id_to_item) \n",
        "tar_vocab_size = len(id_to_item)"
      ],
      "execution_count": null,
      "outputs": []
    },
    {
      "cell_type": "code",
      "metadata": {
        "id": "hZNypIxwDwoO"
      },
      "source": [
        "train_x = pad_sequences(train_x, maxlen=7, padding='pre')\n",
        "test_x = pad_sequences(test_x, maxlen=7, padding='pre')\n",
        "train_y = pad_sequences(train_y, maxlen=5, padding='pre')\n",
        "test_y = pad_sequences(test_y, maxlen=5, padding='pre')"
      ],
      "execution_count": null,
      "outputs": []
    },
    {
      "cell_type": "code",
      "metadata": {
        "id": "ODb9w1WCZSbN",
        "outputId": "a2ddb806-ccf8-43d3-cb4c-9bf583fdf5cf",
        "colab": {
          "base_uri": "https://localhost:8080/",
          "height": 35
        }
      },
      "source": [
        "convert_id_to_item(train_x[0], id_to_item), convert_id_to_item(train_y[0], id_to_item)"
      ],
      "execution_count": null,
      "outputs": [
        {
          "output_type": "execute_result",
          "data": {
            "text/plain": [
              "(['2', '5', '4', '+', '9', '2', '7'], ['_', '1', '1', '8', '1'])"
            ]
          },
          "metadata": {
            "tags": []
          },
          "execution_count": 91
        }
      ]
    },
    {
      "cell_type": "code",
      "metadata": {
        "id": "AZJ730ySNsIE"
      },
      "source": [
        "train_y_t = train_y[:,1:]\n",
        "test_y_t = test_y[:,1:]\n",
        "\n",
        "# ['_', '0', '3', '1', '5'] => ['0', '3', '1', '5', '_'] (학습을 위한 데이터 추가 생성 )\n",
        "train_y_t = pad_sequences(train_y_t, value=item_to_id['_'], maxlen=5, padding='post')\n",
        "test_y_t = pad_sequences(test_y_t, value=item_to_id['_'], maxlen=5, padding='post')"
      ],
      "execution_count": null,
      "outputs": []
    },
    {
      "cell_type": "code",
      "metadata": {
        "id": "raluFWTfZmpW",
        "outputId": "68412896-1298-425f-d7e6-1456e8a68695",
        "colab": {
          "base_uri": "https://localhost:8080/",
          "height": 35
        }
      },
      "source": [
        "convert_id_to_item(train_y_t[0], id_to_item)"
      ],
      "execution_count": null,
      "outputs": [
        {
          "output_type": "execute_result",
          "data": {
            "text/plain": [
              "['1', '1', '8', '1', '_']"
            ]
          },
          "metadata": {
            "tags": []
          },
          "execution_count": 93
        }
      ]
    },
    {
      "cell_type": "code",
      "metadata": {
        "id": "5SIHfpcUDKKu"
      },
      "source": [
        "# data를 Network에 전달하기 위해 (input으로 쓰기위해) one-hot encoding\n",
        "train_x = to_categorical(train_x, num_classes=src_vocab_size)\n",
        "test_x = to_categorical(test_x, num_classes=src_vocab_size)\n",
        "train_y = to_categorical(train_y, num_classes=tar_vocab_size)\n",
        "test_y = to_categorical(test_y, num_classes=tar_vocab_size)\n",
        "train_y_t = to_categorical(train_y_t, num_classes=tar_vocab_size)\n",
        "test_y_t = to_categorical(test_y_t, num_classes=tar_vocab_size) "
      ],
      "execution_count": null,
      "outputs": []
    },
    {
      "cell_type": "code",
      "metadata": {
        "id": "lZxmqLCeEARW",
        "outputId": "cf688740-aa7e-4142-f90a-2031274fd5e6",
        "colab": {
          "base_uri": "https://localhost:8080/",
          "height": 125
        }
      },
      "source": [
        "train_x.shape, test_x.shape, train_y.shape, test_y.shape, train_y_t.shape, test_y_t.shape"
      ],
      "execution_count": null,
      "outputs": [
        {
          "output_type": "execute_result",
          "data": {
            "text/plain": [
              "((20000, 7, 12),\n",
              " (10000, 7, 12),\n",
              " (20000, 5, 12),\n",
              " (10000, 5, 12),\n",
              " (20000, 5, 12),\n",
              " (10000, 5, 12))"
            ]
          },
          "metadata": {
            "tags": []
          },
          "execution_count": 95
        }
      ]
    },
    {
      "cell_type": "code",
      "metadata": {
        "id": "3s72AmHPanYF"
      },
      "source": [
        "def onehot_to_sentence(data, id_to_item):\n",
        "  return convert_id_to_item(np.argmax(data, axis=1), id_to_item)"
      ],
      "execution_count": null,
      "outputs": []
    },
    {
      "cell_type": "code",
      "metadata": {
        "id": "eR9lS5a_UuAR",
        "outputId": "9162b031-cbe6-448c-bd25-6d8317c84fa9",
        "colab": {
          "base_uri": "https://localhost:8080/",
          "height": 35
        }
      },
      "source": [
        "onehot_to_sentence(train_y_t[0], id_to_item)"
      ],
      "execution_count": null,
      "outputs": [
        {
          "output_type": "execute_result",
          "data": {
            "text/plain": [
              "['1', '1', '8', '1', '_']"
            ]
          },
          "metadata": {
            "tags": []
          },
          "execution_count": 97
        }
      ]
    },
    {
      "cell_type": "code",
      "metadata": {
        "id": "xIstwDLrkSWQ"
      },
      "source": [
        "hidden_node_size = 128"
      ],
      "execution_count": null,
      "outputs": []
    },
    {
      "cell_type": "code",
      "metadata": {
        "id": "vu1759cQ3ur1"
      },
      "source": [
        "# Encoder (no Attention)\n",
        "# encoder_input = Embedding(vocab_size, 5,  input_length=7)\n",
        "encoder_inputs = Input(shape=(None, src_vocab_size))\n",
        "encoder_lstm = LSTM(hidden_node_size, return_state=True) \n",
        "encoder_outputs, state_h, state_c = encoder_lstm(encoder_inputs)\n",
        "\n",
        "encoder_states = [state_h, state_c]"
      ],
      "execution_count": null,
      "outputs": []
    },
    {
      "cell_type": "code",
      "metadata": {
        "id": "ssPTfqBIA6pO"
      },
      "source": [
        "# Encoder (with Attention)\n",
        "encoder_inputs = Input(shape=(None, src_vocab_size))\n",
        "encoder_lstm = LSTM(hidden_node_size, return_state=True, return_sequences=True) \n",
        "encoder_outputs, state_h, state_c = encoder_lstm(encoder_inputs)\n",
        "\n",
        "encoder_states = [state_h, state_c]"
      ],
      "execution_count": null,
      "outputs": []
    },
    {
      "cell_type": "code",
      "metadata": {
        "id": "waMZ5yh63xw-"
      },
      "source": [
        "# Decoder (no Attention) \n",
        "decoder_inputs = Input(shape=(None, tar_vocab_size))\n",
        "decoder_lstm = LSTM(hidden_node_size, return_state=True, return_sequences=True) \n",
        "# output, h, c 자리인데, decoder의 h,c는 사용되지 않기 때문에 _ 로..\n",
        "decoder_outputs, _, _ = decoder_lstm(decoder_inputs, initial_state=encoder_states)\n",
        "\n",
        "decoder_softmax_layer = Dense(tar_vocab_size, activation='softmax')\n",
        "decoder_outputs = decoder_softmax_layer(decoder_outputs)\n",
        "\n",
        "# Model(input, output)\n",
        "model = Model([encoder_inputs, decoder_inputs], decoder_outputs)"
      ],
      "execution_count": null,
      "outputs": []
    },
    {
      "cell_type": "code",
      "metadata": {
        "id": "UIwknhJ2BKKG"
      },
      "source": [
        "# Decoder (with Attention)\n",
        "decoder_inputs = Input(shape=(None, tar_vocab_size))\n",
        "decoder_lstm = LSTM(hidden_node_size, return_state=True, return_sequences=True) \n",
        "## seq2seq (with Attention) - Attention layer 추가 \n",
        "decoder_attention = tf.keras.layers.Attention()\n",
        "\n",
        "# output, h, c 자리인데, decoder의 h,c는 사용되지 않기 때문에 _ 로..\n",
        "decoder_outputs, _, _ = decoder_lstm(decoder_inputs, initial_state=encoder_states)\n",
        "\n",
        "## seq2seq (with Attention) - Attention layer 추가 \n",
        "decoder_attention_output = decoder_attention([decoder_outputs, encoder_outputs])\n",
        "decoder_softmax_layer = Dense(tar_vocab_size, activation='softmax')\n",
        "\n",
        "## seq2seq (with Attention) - Attention layer 추가 \n",
        "decoder_outputs = decoder_softmax_layer(decoder_outputs + decoder_attention_output)\n",
        "\n",
        "# Model(input, output)\n",
        "model = Model([encoder_inputs, decoder_inputs], decoder_outputs)"
      ],
      "execution_count": null,
      "outputs": []
    },
    {
      "cell_type": "code",
      "metadata": {
        "id": "FOqOR1HyS688",
        "outputId": "03f38852-5b89-47cc-da78-d30756cac3f8",
        "colab": {
          "base_uri": "https://localhost:8080/",
          "height": 485
        }
      },
      "source": [
        "model.summary()"
      ],
      "execution_count": null,
      "outputs": [
        {
          "output_type": "stream",
          "text": [
            "Model: \"functional_17\"\n",
            "__________________________________________________________________________________________________\n",
            "Layer (type)                    Output Shape         Param #     Connected to                     \n",
            "==================================================================================================\n",
            "input_41 (InputLayer)           [(None, None, 12)]   0                                            \n",
            "__________________________________________________________________________________________________\n",
            "input_42 (InputLayer)           [(None, None, 12)]   0                                            \n",
            "__________________________________________________________________________________________________\n",
            "lstm_6 (LSTM)                   [(None, None, 128),  72192       input_41[0][0]                   \n",
            "__________________________________________________________________________________________________\n",
            "lstm_7 (LSTM)                   [(None, None, 128),  72192       input_42[0][0]                   \n",
            "                                                                 lstm_6[0][1]                     \n",
            "                                                                 lstm_6[0][2]                     \n",
            "__________________________________________________________________________________________________\n",
            "attention_2 (Attention)         (None, None, 128)    0           lstm_7[0][0]                     \n",
            "                                                                 lstm_6[0][0]                     \n",
            "__________________________________________________________________________________________________\n",
            "tf_op_layer_AddV2_10 (TensorFlo [(None, None, 128)]  0           lstm_7[0][0]                     \n",
            "                                                                 attention_2[0][0]                \n",
            "__________________________________________________________________________________________________\n",
            "dense_3 (Dense)                 (None, None, 12)     1548        tf_op_layer_AddV2_10[0][0]       \n",
            "==================================================================================================\n",
            "Total params: 145,932\n",
            "Trainable params: 145,932\n",
            "Non-trainable params: 0\n",
            "__________________________________________________________________________________________________\n"
          ],
          "name": "stdout"
        }
      ]
    },
    {
      "cell_type": "code",
      "metadata": {
        "id": "ms5F70b5Tmxq"
      },
      "source": [
        "# train_x.shape, test_x.shape, \n",
        "# train_y.shape, test_y.shape, \n",
        "# train_y_t.shape, test_y_t.shape"
      ],
      "execution_count": null,
      "outputs": []
    },
    {
      "cell_type": "code",
      "metadata": {
        "id": "Q9Gh14khTfix"
      },
      "source": [
        "model.compile(optimizer='adam', loss='categorical_crossentropy', metrics=['accuracy']) "
      ],
      "execution_count": null,
      "outputs": []
    },
    {
      "cell_type": "code",
      "metadata": {
        "id": "E2JlPuyCUM5K",
        "outputId": "cbcad0fe-7725-4843-c2fe-945ce2c76e3a",
        "colab": {
          "base_uri": "https://localhost:8080/",
          "height": 1000
        }
      },
      "source": [
        "history = model.fit(x=[train_x, train_y], \n",
        "              y=train_y_t, \n",
        "              batch_size=512, \n",
        "              epochs=200, \n",
        "              validation_split=0.2)             "
      ],
      "execution_count": null,
      "outputs": [
        {
          "output_type": "stream",
          "text": [
            "Epoch 1/200\n",
            "32/32 [==============================] - 1s 26ms/step - loss: 2.1830 - accuracy: 0.3368 - val_loss: 1.7546 - val_accuracy: 0.3844\n",
            "Epoch 2/200\n",
            "32/32 [==============================] - 0s 7ms/step - loss: 1.5929 - accuracy: 0.4040 - val_loss: 1.5030 - val_accuracy: 0.4157\n",
            "Epoch 3/200\n",
            "32/32 [==============================] - 0s 7ms/step - loss: 1.4947 - accuracy: 0.4134 - val_loss: 1.4856 - val_accuracy: 0.4119\n",
            "Epoch 4/200\n",
            "32/32 [==============================] - 0s 7ms/step - loss: 1.4800 - accuracy: 0.4193 - val_loss: 1.4647 - val_accuracy: 0.4223\n",
            "Epoch 5/200\n",
            "32/32 [==============================] - 0s 7ms/step - loss: 1.4633 - accuracy: 0.4298 - val_loss: 1.4511 - val_accuracy: 0.4414\n",
            "Epoch 6/200\n",
            "32/32 [==============================] - 0s 7ms/step - loss: 1.4483 - accuracy: 0.4398 - val_loss: 1.4417 - val_accuracy: 0.4385\n",
            "Epoch 7/200\n",
            "32/32 [==============================] - 0s 7ms/step - loss: 1.4373 - accuracy: 0.4417 - val_loss: 1.4264 - val_accuracy: 0.4437\n",
            "Epoch 8/200\n",
            "32/32 [==============================] - 0s 7ms/step - loss: 1.4220 - accuracy: 0.4473 - val_loss: 1.4147 - val_accuracy: 0.4476\n",
            "Epoch 9/200\n",
            "32/32 [==============================] - 0s 7ms/step - loss: 1.4100 - accuracy: 0.4502 - val_loss: 1.4083 - val_accuracy: 0.4473\n",
            "Epoch 10/200\n",
            "32/32 [==============================] - 0s 8ms/step - loss: 1.3914 - accuracy: 0.4600 - val_loss: 1.3822 - val_accuracy: 0.4629\n",
            "Epoch 11/200\n",
            "32/32 [==============================] - 0s 7ms/step - loss: 1.3675 - accuracy: 0.4694 - val_loss: 1.3523 - val_accuracy: 0.4721\n",
            "Epoch 12/200\n",
            "32/32 [==============================] - 0s 7ms/step - loss: 1.3402 - accuracy: 0.4780 - val_loss: 1.3313 - val_accuracy: 0.4808\n",
            "Epoch 13/200\n",
            "32/32 [==============================] - 0s 7ms/step - loss: 1.3104 - accuracy: 0.4912 - val_loss: 1.2937 - val_accuracy: 0.4933\n",
            "Epoch 14/200\n",
            "32/32 [==============================] - 0s 7ms/step - loss: 1.2808 - accuracy: 0.4998 - val_loss: 1.2787 - val_accuracy: 0.4943\n",
            "Epoch 15/200\n",
            "32/32 [==============================] - 0s 7ms/step - loss: 1.2491 - accuracy: 0.5133 - val_loss: 1.2449 - val_accuracy: 0.5160\n",
            "Epoch 16/200\n",
            "32/32 [==============================] - 0s 7ms/step - loss: 1.2301 - accuracy: 0.5209 - val_loss: 1.2815 - val_accuracy: 0.4806\n",
            "Epoch 17/200\n",
            "32/32 [==============================] - 0s 8ms/step - loss: 1.2172 - accuracy: 0.5228 - val_loss: 1.1993 - val_accuracy: 0.5368\n",
            "Epoch 18/200\n",
            "32/32 [==============================] - 0s 7ms/step - loss: 1.1880 - accuracy: 0.5419 - val_loss: 1.1850 - val_accuracy: 0.5428\n",
            "Epoch 19/200\n",
            "32/32 [==============================] - 0s 7ms/step - loss: 1.1746 - accuracy: 0.5469 - val_loss: 1.1892 - val_accuracy: 0.5316\n",
            "Epoch 20/200\n",
            "32/32 [==============================] - 0s 7ms/step - loss: 1.1637 - accuracy: 0.5511 - val_loss: 1.1554 - val_accuracy: 0.5584\n",
            "Epoch 21/200\n",
            "32/32 [==============================] - 0s 8ms/step - loss: 1.1473 - accuracy: 0.5613 - val_loss: 1.1459 - val_accuracy: 0.5591\n",
            "Epoch 22/200\n",
            "32/32 [==============================] - 0s 7ms/step - loss: 1.1469 - accuracy: 0.5559 - val_loss: 1.1523 - val_accuracy: 0.5484\n",
            "Epoch 23/200\n",
            "32/32 [==============================] - 0s 7ms/step - loss: 1.1297 - accuracy: 0.5677 - val_loss: 1.1284 - val_accuracy: 0.5658\n",
            "Epoch 24/200\n",
            "32/32 [==============================] - 0s 7ms/step - loss: 1.1181 - accuracy: 0.5749 - val_loss: 1.1120 - val_accuracy: 0.5827\n",
            "Epoch 25/200\n",
            "32/32 [==============================] - 0s 7ms/step - loss: 1.1060 - accuracy: 0.5801 - val_loss: 1.1017 - val_accuracy: 0.5840\n",
            "Epoch 26/200\n",
            "32/32 [==============================] - 0s 7ms/step - loss: 1.1001 - accuracy: 0.5809 - val_loss: 1.0981 - val_accuracy: 0.5802\n",
            "Epoch 27/200\n",
            "32/32 [==============================] - 0s 7ms/step - loss: 1.0891 - accuracy: 0.5866 - val_loss: 1.0833 - val_accuracy: 0.5911\n",
            "Epoch 28/200\n",
            "32/32 [==============================] - 0s 7ms/step - loss: 1.0774 - accuracy: 0.5932 - val_loss: 1.0990 - val_accuracy: 0.5743\n",
            "Epoch 29/200\n",
            "32/32 [==============================] - 0s 7ms/step - loss: 1.0738 - accuracy: 0.5940 - val_loss: 1.0738 - val_accuracy: 0.5893\n",
            "Epoch 30/200\n",
            "32/32 [==============================] - 0s 7ms/step - loss: 1.0843 - accuracy: 0.5828 - val_loss: 1.0680 - val_accuracy: 0.6018\n",
            "Epoch 31/200\n",
            "32/32 [==============================] - 0s 7ms/step - loss: 1.0552 - accuracy: 0.6039 - val_loss: 1.0511 - val_accuracy: 0.6061\n",
            "Epoch 32/200\n",
            "32/32 [==============================] - 0s 7ms/step - loss: 1.0513 - accuracy: 0.6030 - val_loss: 1.0631 - val_accuracy: 0.5893\n",
            "Epoch 33/200\n",
            "32/32 [==============================] - 0s 7ms/step - loss: 1.0434 - accuracy: 0.6081 - val_loss: 1.0474 - val_accuracy: 0.6028\n",
            "Epoch 34/200\n",
            "32/32 [==============================] - 0s 7ms/step - loss: 1.0433 - accuracy: 0.6053 - val_loss: 1.0420 - val_accuracy: 0.6000\n",
            "Epoch 35/200\n",
            "32/32 [==============================] - 0s 7ms/step - loss: 1.0424 - accuracy: 0.6027 - val_loss: 1.0459 - val_accuracy: 0.5997\n",
            "Epoch 36/200\n",
            "32/32 [==============================] - 0s 7ms/step - loss: 1.0262 - accuracy: 0.6134 - val_loss: 1.0241 - val_accuracy: 0.6156\n",
            "Epoch 37/200\n",
            "32/32 [==============================] - 0s 8ms/step - loss: 1.0213 - accuracy: 0.6146 - val_loss: 1.0243 - val_accuracy: 0.6094\n",
            "Epoch 38/200\n",
            "32/32 [==============================] - 0s 7ms/step - loss: 1.0189 - accuracy: 0.6127 - val_loss: 1.0145 - val_accuracy: 0.6151\n",
            "Epoch 39/200\n",
            "32/32 [==============================] - 0s 8ms/step - loss: 1.0163 - accuracy: 0.6124 - val_loss: 1.0113 - val_accuracy: 0.6151\n",
            "Epoch 40/200\n",
            "32/32 [==============================] - 0s 8ms/step - loss: 1.0140 - accuracy: 0.6131 - val_loss: 1.0072 - val_accuracy: 0.6196\n",
            "Epoch 41/200\n",
            "32/32 [==============================] - 0s 8ms/step - loss: 0.9941 - accuracy: 0.6264 - val_loss: 0.9975 - val_accuracy: 0.6251\n",
            "Epoch 42/200\n",
            "32/32 [==============================] - 0s 7ms/step - loss: 0.9892 - accuracy: 0.6272 - val_loss: 0.9977 - val_accuracy: 0.6170\n",
            "Epoch 43/200\n",
            "32/32 [==============================] - 0s 7ms/step - loss: 0.9927 - accuracy: 0.6231 - val_loss: 0.9861 - val_accuracy: 0.6262\n",
            "Epoch 44/200\n",
            "32/32 [==============================] - 0s 7ms/step - loss: 0.9832 - accuracy: 0.6268 - val_loss: 0.9804 - val_accuracy: 0.6294\n",
            "Epoch 45/200\n",
            "32/32 [==============================] - 0s 7ms/step - loss: 0.9784 - accuracy: 0.6305 - val_loss: 0.9806 - val_accuracy: 0.6248\n",
            "Epoch 46/200\n",
            "32/32 [==============================] - 0s 7ms/step - loss: 0.9678 - accuracy: 0.6358 - val_loss: 0.9649 - val_accuracy: 0.6385\n",
            "Epoch 47/200\n",
            "32/32 [==============================] - 0s 7ms/step - loss: 0.9653 - accuracy: 0.6337 - val_loss: 0.9958 - val_accuracy: 0.6104\n",
            "Epoch 48/200\n",
            "32/32 [==============================] - 0s 7ms/step - loss: 0.9647 - accuracy: 0.6332 - val_loss: 0.9662 - val_accuracy: 0.6242\n",
            "Epoch 49/200\n",
            "32/32 [==============================] - 0s 7ms/step - loss: 0.9893 - accuracy: 0.6170 - val_loss: 0.9554 - val_accuracy: 0.6400\n",
            "Epoch 50/200\n",
            "32/32 [==============================] - 0s 8ms/step - loss: 0.9546 - accuracy: 0.6383 - val_loss: 0.9460 - val_accuracy: 0.6424\n",
            "Epoch 51/200\n",
            "32/32 [==============================] - 0s 7ms/step - loss: 0.9352 - accuracy: 0.6488 - val_loss: 0.9465 - val_accuracy: 0.6393\n",
            "Epoch 52/200\n",
            "32/32 [==============================] - 0s 7ms/step - loss: 0.9384 - accuracy: 0.6441 - val_loss: 0.9422 - val_accuracy: 0.6388\n",
            "Epoch 53/200\n",
            "32/32 [==============================] - 0s 7ms/step - loss: 0.9462 - accuracy: 0.6359 - val_loss: 0.9383 - val_accuracy: 0.6396\n",
            "Epoch 54/200\n",
            "32/32 [==============================] - 0s 7ms/step - loss: 0.9198 - accuracy: 0.6531 - val_loss: 0.9321 - val_accuracy: 0.6372\n",
            "Epoch 55/200\n",
            "32/32 [==============================] - 0s 7ms/step - loss: 0.9284 - accuracy: 0.6457 - val_loss: 0.9301 - val_accuracy: 0.6446\n",
            "Epoch 56/200\n",
            "32/32 [==============================] - 0s 8ms/step - loss: 0.9283 - accuracy: 0.6432 - val_loss: 0.9166 - val_accuracy: 0.6500\n",
            "Epoch 57/200\n",
            "32/32 [==============================] - 0s 7ms/step - loss: 0.9279 - accuracy: 0.6404 - val_loss: 0.9143 - val_accuracy: 0.6499\n",
            "Epoch 58/200\n",
            "32/32 [==============================] - 0s 7ms/step - loss: 0.9028 - accuracy: 0.6576 - val_loss: 0.9394 - val_accuracy: 0.6266\n",
            "Epoch 59/200\n",
            "32/32 [==============================] - 0s 7ms/step - loss: 0.8997 - accuracy: 0.6572 - val_loss: 0.9189 - val_accuracy: 0.6387\n",
            "Epoch 60/200\n",
            "32/32 [==============================] - 0s 8ms/step - loss: 0.9217 - accuracy: 0.6409 - val_loss: 0.8964 - val_accuracy: 0.6588\n",
            "Epoch 61/200\n",
            "32/32 [==============================] - 0s 7ms/step - loss: 0.8858 - accuracy: 0.6665 - val_loss: 0.9052 - val_accuracy: 0.6457\n",
            "Epoch 62/200\n",
            "32/32 [==============================] - 0s 7ms/step - loss: 0.8931 - accuracy: 0.6562 - val_loss: 0.8878 - val_accuracy: 0.6592\n",
            "Epoch 63/200\n",
            "32/32 [==============================] - 0s 7ms/step - loss: 0.8880 - accuracy: 0.6581 - val_loss: 0.9729 - val_accuracy: 0.6111\n",
            "Epoch 64/200\n",
            "32/32 [==============================] - 0s 7ms/step - loss: 0.9091 - accuracy: 0.6451 - val_loss: 0.9049 - val_accuracy: 0.6477\n",
            "Epoch 65/200\n",
            "32/32 [==============================] - 0s 8ms/step - loss: 0.8749 - accuracy: 0.6671 - val_loss: 0.9102 - val_accuracy: 0.6395\n",
            "Epoch 66/200\n",
            "32/32 [==============================] - 0s 7ms/step - loss: 0.8777 - accuracy: 0.6629 - val_loss: 0.8779 - val_accuracy: 0.6590\n",
            "Epoch 67/200\n",
            "32/32 [==============================] - 0s 7ms/step - loss: 0.8684 - accuracy: 0.6670 - val_loss: 0.8821 - val_accuracy: 0.6561\n",
            "Epoch 68/200\n",
            "32/32 [==============================] - 0s 7ms/step - loss: 0.8656 - accuracy: 0.6704 - val_loss: 0.9738 - val_accuracy: 0.6073\n",
            "Epoch 69/200\n",
            "32/32 [==============================] - 0s 7ms/step - loss: 0.8790 - accuracy: 0.6604 - val_loss: 0.8719 - val_accuracy: 0.6572\n",
            "Epoch 70/200\n",
            "32/32 [==============================] - 0s 7ms/step - loss: 0.8665 - accuracy: 0.6656 - val_loss: 0.8628 - val_accuracy: 0.6635\n",
            "Epoch 71/200\n",
            "32/32 [==============================] - 0s 7ms/step - loss: 0.8493 - accuracy: 0.6785 - val_loss: 0.8529 - val_accuracy: 0.6761\n",
            "Epoch 72/200\n",
            "32/32 [==============================] - 0s 7ms/step - loss: 0.8836 - accuracy: 0.6536 - val_loss: 0.8552 - val_accuracy: 0.6707\n",
            "Epoch 73/200\n",
            "32/32 [==============================] - 0s 7ms/step - loss: 0.8397 - accuracy: 0.6864 - val_loss: 0.8413 - val_accuracy: 0.6876\n",
            "Epoch 74/200\n",
            "32/32 [==============================] - 0s 7ms/step - loss: 0.8450 - accuracy: 0.6785 - val_loss: 0.8929 - val_accuracy: 0.6342\n",
            "Epoch 75/200\n",
            "32/32 [==============================] - 0s 7ms/step - loss: 0.8469 - accuracy: 0.6759 - val_loss: 0.8409 - val_accuracy: 0.6801\n",
            "Epoch 76/200\n",
            "32/32 [==============================] - 0s 7ms/step - loss: 0.8488 - accuracy: 0.6697 - val_loss: 0.9117 - val_accuracy: 0.6287\n",
            "Epoch 77/200\n",
            "32/32 [==============================] - 0s 7ms/step - loss: 0.8399 - accuracy: 0.6757 - val_loss: 0.8471 - val_accuracy: 0.6691\n",
            "Epoch 78/200\n",
            "32/32 [==============================] - 0s 7ms/step - loss: 0.8280 - accuracy: 0.6851 - val_loss: 0.8319 - val_accuracy: 0.6819\n",
            "Epoch 79/200\n",
            "32/32 [==============================] - 0s 7ms/step - loss: 0.8230 - accuracy: 0.6865 - val_loss: 0.8820 - val_accuracy: 0.6404\n",
            "Epoch 80/200\n",
            "32/32 [==============================] - 0s 7ms/step - loss: 0.8327 - accuracy: 0.6790 - val_loss: 0.8659 - val_accuracy: 0.6617\n",
            "Epoch 81/200\n",
            "32/32 [==============================] - 0s 8ms/step - loss: 0.8219 - accuracy: 0.6855 - val_loss: 0.8989 - val_accuracy: 0.6297\n",
            "Epoch 82/200\n",
            "32/32 [==============================] - 0s 7ms/step - loss: 0.8228 - accuracy: 0.6820 - val_loss: 0.8240 - val_accuracy: 0.6813\n",
            "Epoch 83/200\n",
            "32/32 [==============================] - 0s 7ms/step - loss: 0.8092 - accuracy: 0.6914 - val_loss: 0.8864 - val_accuracy: 0.6373\n",
            "Epoch 84/200\n",
            "32/32 [==============================] - 0s 7ms/step - loss: 0.8172 - accuracy: 0.6862 - val_loss: 0.8620 - val_accuracy: 0.6482\n",
            "Epoch 85/200\n",
            "32/32 [==============================] - 0s 8ms/step - loss: 0.8111 - accuracy: 0.6895 - val_loss: 0.8444 - val_accuracy: 0.6593\n",
            "Epoch 86/200\n",
            "32/32 [==============================] - 0s 7ms/step - loss: 0.8282 - accuracy: 0.6790 - val_loss: 0.8102 - val_accuracy: 0.6931\n",
            "Epoch 87/200\n",
            "32/32 [==============================] - 0s 7ms/step - loss: 0.7944 - accuracy: 0.7018 - val_loss: 0.8045 - val_accuracy: 0.6917\n",
            "Epoch 88/200\n",
            "32/32 [==============================] - 0s 7ms/step - loss: 0.8156 - accuracy: 0.6825 - val_loss: 0.8389 - val_accuracy: 0.6573\n",
            "Epoch 89/200\n",
            "32/32 [==============================] - 0s 7ms/step - loss: 0.7985 - accuracy: 0.6938 - val_loss: 0.7980 - val_accuracy: 0.6986\n",
            "Epoch 90/200\n",
            "32/32 [==============================] - 0s 7ms/step - loss: 0.7916 - accuracy: 0.6973 - val_loss: 0.8003 - val_accuracy: 0.6899\n",
            "Epoch 91/200\n",
            "32/32 [==============================] - 0s 7ms/step - loss: 0.8168 - accuracy: 0.6803 - val_loss: 0.8202 - val_accuracy: 0.6737\n",
            "Epoch 92/200\n",
            "32/32 [==============================] - 0s 7ms/step - loss: 0.7808 - accuracy: 0.7086 - val_loss: 0.7952 - val_accuracy: 0.6938\n",
            "Epoch 93/200\n",
            "32/32 [==============================] - 0s 7ms/step - loss: 0.7865 - accuracy: 0.6996 - val_loss: 0.8190 - val_accuracy: 0.6734\n",
            "Epoch 94/200\n",
            "32/32 [==============================] - 0s 7ms/step - loss: 0.7745 - accuracy: 0.7090 - val_loss: 0.7890 - val_accuracy: 0.6988\n",
            "Epoch 95/200\n",
            "32/32 [==============================] - 0s 8ms/step - loss: 0.8017 - accuracy: 0.6863 - val_loss: 0.7906 - val_accuracy: 0.6962\n",
            "Epoch 96/200\n",
            "32/32 [==============================] - 0s 7ms/step - loss: 0.7873 - accuracy: 0.6967 - val_loss: 0.7850 - val_accuracy: 0.7007\n",
            "Epoch 97/200\n",
            "32/32 [==============================] - 0s 7ms/step - loss: 0.7821 - accuracy: 0.6993 - val_loss: 0.8564 - val_accuracy: 0.6551\n",
            "Epoch 98/200\n",
            "32/32 [==============================] - 0s 7ms/step - loss: 0.7770 - accuracy: 0.7024 - val_loss: 0.7952 - val_accuracy: 0.6830\n",
            "Epoch 99/200\n",
            "32/32 [==============================] - 0s 7ms/step - loss: 0.7598 - accuracy: 0.7164 - val_loss: 0.7712 - val_accuracy: 0.7113\n",
            "Epoch 100/200\n",
            "32/32 [==============================] - 0s 7ms/step - loss: 0.7916 - accuracy: 0.6909 - val_loss: 0.7828 - val_accuracy: 0.6941\n",
            "Epoch 101/200\n",
            "32/32 [==============================] - 0s 8ms/step - loss: 0.7559 - accuracy: 0.7174 - val_loss: 0.7966 - val_accuracy: 0.6797\n",
            "Epoch 102/200\n",
            "32/32 [==============================] - 0s 7ms/step - loss: 0.7781 - accuracy: 0.6972 - val_loss: 0.8323 - val_accuracy: 0.6562\n",
            "Epoch 103/200\n",
            "32/32 [==============================] - 0s 7ms/step - loss: 0.7926 - accuracy: 0.6878 - val_loss: 0.7942 - val_accuracy: 0.6844\n",
            "Epoch 104/200\n",
            "32/32 [==============================] - 0s 7ms/step - loss: 0.7674 - accuracy: 0.7042 - val_loss: 0.7898 - val_accuracy: 0.6829\n",
            "Epoch 105/200\n",
            "32/32 [==============================] - 0s 7ms/step - loss: 0.7648 - accuracy: 0.7094 - val_loss: 0.7969 - val_accuracy: 0.6805\n",
            "Epoch 106/200\n",
            "32/32 [==============================] - 0s 7ms/step - loss: 0.7661 - accuracy: 0.7037 - val_loss: 0.7699 - val_accuracy: 0.7046\n",
            "Epoch 107/200\n",
            "32/32 [==============================] - 0s 7ms/step - loss: 0.7414 - accuracy: 0.7281 - val_loss: 0.7617 - val_accuracy: 0.7085\n",
            "Epoch 108/200\n",
            "32/32 [==============================] - 0s 7ms/step - loss: 0.7538 - accuracy: 0.7102 - val_loss: 0.7853 - val_accuracy: 0.6826\n",
            "Epoch 109/200\n",
            "32/32 [==============================] - 0s 8ms/step - loss: 0.7527 - accuracy: 0.7111 - val_loss: 0.8710 - val_accuracy: 0.6523\n",
            "Epoch 110/200\n",
            "32/32 [==============================] - 0s 7ms/step - loss: 0.7573 - accuracy: 0.7125 - val_loss: 0.7573 - val_accuracy: 0.7147\n",
            "Epoch 111/200\n",
            "32/32 [==============================] - 0s 7ms/step - loss: 0.7489 - accuracy: 0.7130 - val_loss: 0.7495 - val_accuracy: 0.7189\n",
            "Epoch 112/200\n",
            "32/32 [==============================] - 0s 8ms/step - loss: 0.7399 - accuracy: 0.7236 - val_loss: 0.7527 - val_accuracy: 0.7159\n",
            "Epoch 113/200\n",
            "32/32 [==============================] - 0s 7ms/step - loss: 0.7682 - accuracy: 0.7000 - val_loss: 0.7737 - val_accuracy: 0.6951\n",
            "Epoch 114/200\n",
            "32/32 [==============================] - 0s 7ms/step - loss: 0.7552 - accuracy: 0.7064 - val_loss: 0.7441 - val_accuracy: 0.7223\n",
            "Epoch 115/200\n",
            "32/32 [==============================] - 0s 7ms/step - loss: 0.7317 - accuracy: 0.7259 - val_loss: 0.7517 - val_accuracy: 0.7154\n",
            "Epoch 116/200\n",
            "32/32 [==============================] - 0s 8ms/step - loss: 0.7298 - accuracy: 0.7243 - val_loss: 0.8167 - val_accuracy: 0.6650\n",
            "Epoch 117/200\n",
            "32/32 [==============================] - 0s 8ms/step - loss: 0.7499 - accuracy: 0.7090 - val_loss: 0.8162 - val_accuracy: 0.6693\n",
            "Epoch 118/200\n",
            "32/32 [==============================] - 0s 7ms/step - loss: 0.7549 - accuracy: 0.7086 - val_loss: 0.7399 - val_accuracy: 0.7258\n",
            "Epoch 119/200\n",
            "32/32 [==============================] - 0s 7ms/step - loss: 0.7262 - accuracy: 0.7283 - val_loss: 0.7399 - val_accuracy: 0.7239\n",
            "Epoch 120/200\n",
            "32/32 [==============================] - 0s 8ms/step - loss: 0.7285 - accuracy: 0.7239 - val_loss: 0.7416 - val_accuracy: 0.7173\n",
            "Epoch 121/200\n",
            "32/32 [==============================] - 0s 8ms/step - loss: 0.7555 - accuracy: 0.7051 - val_loss: 0.7617 - val_accuracy: 0.7001\n",
            "Epoch 122/200\n",
            "32/32 [==============================] - 0s 7ms/step - loss: 0.7974 - accuracy: 0.6879 - val_loss: 0.7603 - val_accuracy: 0.7050\n",
            "Epoch 123/200\n",
            "32/32 [==============================] - 0s 7ms/step - loss: 0.7336 - accuracy: 0.7200 - val_loss: 0.7496 - val_accuracy: 0.7123\n",
            "Epoch 124/200\n",
            "32/32 [==============================] - 0s 7ms/step - loss: 0.7116 - accuracy: 0.7382 - val_loss: 0.7490 - val_accuracy: 0.7061\n",
            "Epoch 125/200\n",
            "32/32 [==============================] - 0s 7ms/step - loss: 0.7185 - accuracy: 0.7293 - val_loss: 0.7331 - val_accuracy: 0.7200\n",
            "Epoch 126/200\n",
            "32/32 [==============================] - 0s 7ms/step - loss: 0.7128 - accuracy: 0.7335 - val_loss: 0.7183 - val_accuracy: 0.7391\n",
            "Epoch 127/200\n",
            "32/32 [==============================] - 0s 7ms/step - loss: 0.7202 - accuracy: 0.7322 - val_loss: 0.7400 - val_accuracy: 0.7156\n",
            "Epoch 128/200\n",
            "32/32 [==============================] - 0s 7ms/step - loss: 0.7300 - accuracy: 0.7194 - val_loss: 0.8303 - val_accuracy: 0.6643\n",
            "Epoch 129/200\n",
            "32/32 [==============================] - 0s 8ms/step - loss: 0.7275 - accuracy: 0.7210 - val_loss: 0.7214 - val_accuracy: 0.7305\n",
            "Epoch 130/200\n",
            "32/32 [==============================] - 0s 7ms/step - loss: 0.7161 - accuracy: 0.7293 - val_loss: 0.7198 - val_accuracy: 0.7316\n",
            "Epoch 131/200\n",
            "32/32 [==============================] - 0s 7ms/step - loss: 0.7116 - accuracy: 0.7318 - val_loss: 0.7209 - val_accuracy: 0.7307\n",
            "Epoch 132/200\n",
            "32/32 [==============================] - 0s 8ms/step - loss: 0.7206 - accuracy: 0.7225 - val_loss: 0.9243 - val_accuracy: 0.6361\n",
            "Epoch 133/200\n",
            "32/32 [==============================] - 0s 8ms/step - loss: 0.7533 - accuracy: 0.7044 - val_loss: 0.7679 - val_accuracy: 0.6985\n",
            "Epoch 134/200\n",
            "32/32 [==============================] - 0s 7ms/step - loss: 0.7211 - accuracy: 0.7218 - val_loss: 0.7393 - val_accuracy: 0.7106\n",
            "Epoch 135/200\n",
            "32/32 [==============================] - 0s 7ms/step - loss: 0.7261 - accuracy: 0.7182 - val_loss: 0.7109 - val_accuracy: 0.7390\n",
            "Epoch 136/200\n",
            "32/32 [==============================] - 0s 8ms/step - loss: 0.6930 - accuracy: 0.7464 - val_loss: 0.7286 - val_accuracy: 0.7149\n",
            "Epoch 137/200\n",
            "32/32 [==============================] - 0s 8ms/step - loss: 0.6871 - accuracy: 0.7506 - val_loss: 0.7047 - val_accuracy: 0.7399\n",
            "Epoch 138/200\n",
            "32/32 [==============================] - 0s 7ms/step - loss: 0.7112 - accuracy: 0.7273 - val_loss: 0.7789 - val_accuracy: 0.6807\n",
            "Epoch 139/200\n",
            "32/32 [==============================] - 0s 7ms/step - loss: 0.7078 - accuracy: 0.7273 - val_loss: 0.8572 - val_accuracy: 0.6604\n",
            "Epoch 140/200\n",
            "32/32 [==============================] - 0s 8ms/step - loss: 0.7074 - accuracy: 0.7322 - val_loss: 0.7834 - val_accuracy: 0.6723\n",
            "Epoch 141/200\n",
            "32/32 [==============================] - 0s 8ms/step - loss: 0.7042 - accuracy: 0.7312 - val_loss: 0.7188 - val_accuracy: 0.7240\n",
            "Epoch 142/200\n",
            "32/32 [==============================] - 0s 7ms/step - loss: 0.6936 - accuracy: 0.7375 - val_loss: 0.7068 - val_accuracy: 0.7329\n",
            "Epoch 143/200\n",
            "32/32 [==============================] - 0s 8ms/step - loss: 0.7081 - accuracy: 0.7274 - val_loss: 0.7876 - val_accuracy: 0.6769\n",
            "Epoch 144/200\n",
            "32/32 [==============================] - 0s 8ms/step - loss: 0.7083 - accuracy: 0.7275 - val_loss: 0.6976 - val_accuracy: 0.7398\n",
            "Epoch 145/200\n",
            "32/32 [==============================] - 0s 8ms/step - loss: 0.6807 - accuracy: 0.7481 - val_loss: 0.7040 - val_accuracy: 0.7356\n",
            "Epoch 146/200\n",
            "32/32 [==============================] - 0s 7ms/step - loss: 0.7156 - accuracy: 0.7207 - val_loss: 0.8354 - val_accuracy: 0.6499\n",
            "Epoch 147/200\n",
            "32/32 [==============================] - 0s 7ms/step - loss: 0.6858 - accuracy: 0.7443 - val_loss: 0.7220 - val_accuracy: 0.7164\n",
            "Epoch 148/200\n",
            "32/32 [==============================] - 0s 8ms/step - loss: 0.6999 - accuracy: 0.7312 - val_loss: 0.8051 - val_accuracy: 0.6618\n",
            "Epoch 149/200\n",
            "32/32 [==============================] - 0s 8ms/step - loss: 0.7112 - accuracy: 0.7264 - val_loss: 0.7053 - val_accuracy: 0.7323\n",
            "Epoch 150/200\n",
            "32/32 [==============================] - 0s 7ms/step - loss: 0.6833 - accuracy: 0.7431 - val_loss: 0.6931 - val_accuracy: 0.7378\n",
            "Epoch 151/200\n",
            "32/32 [==============================] - 0s 8ms/step - loss: 0.6921 - accuracy: 0.7361 - val_loss: 0.7070 - val_accuracy: 0.7248\n",
            "Epoch 152/200\n",
            "32/32 [==============================] - 0s 8ms/step - loss: 0.6827 - accuracy: 0.7400 - val_loss: 0.6893 - val_accuracy: 0.7396\n",
            "Epoch 153/200\n",
            "32/32 [==============================] - 0s 7ms/step - loss: 0.7166 - accuracy: 0.7200 - val_loss: 0.7152 - val_accuracy: 0.7196\n",
            "Epoch 154/200\n",
            "32/32 [==============================] - 0s 8ms/step - loss: 0.6811 - accuracy: 0.7418 - val_loss: 0.6971 - val_accuracy: 0.7348\n",
            "Epoch 155/200\n",
            "32/32 [==============================] - 0s 7ms/step - loss: 0.6791 - accuracy: 0.7440 - val_loss: 0.7318 - val_accuracy: 0.7036\n",
            "Epoch 156/200\n",
            "32/32 [==============================] - 0s 8ms/step - loss: 0.6905 - accuracy: 0.7352 - val_loss: 0.6930 - val_accuracy: 0.7369\n",
            "Epoch 157/200\n",
            "32/32 [==============================] - 0s 8ms/step - loss: 0.6855 - accuracy: 0.7380 - val_loss: 0.7074 - val_accuracy: 0.7258\n",
            "Epoch 158/200\n",
            "32/32 [==============================] - 0s 7ms/step - loss: 0.6956 - accuracy: 0.7318 - val_loss: 0.7319 - val_accuracy: 0.7026\n",
            "Epoch 159/200\n",
            "32/32 [==============================] - 0s 7ms/step - loss: 0.6937 - accuracy: 0.7330 - val_loss: 0.7264 - val_accuracy: 0.7147\n",
            "Epoch 160/200\n",
            "32/32 [==============================] - 0s 8ms/step - loss: 0.6780 - accuracy: 0.7430 - val_loss: 0.6855 - val_accuracy: 0.7444\n",
            "Epoch 161/200\n",
            "32/32 [==============================] - 0s 8ms/step - loss: 0.6840 - accuracy: 0.7365 - val_loss: 0.6855 - val_accuracy: 0.7434\n",
            "Epoch 162/200\n",
            "32/32 [==============================] - 0s 7ms/step - loss: 0.6596 - accuracy: 0.7563 - val_loss: 0.6858 - val_accuracy: 0.7376\n",
            "Epoch 163/200\n",
            "32/32 [==============================] - 0s 7ms/step - loss: 0.6742 - accuracy: 0.7426 - val_loss: 0.6800 - val_accuracy: 0.7456\n",
            "Epoch 164/200\n",
            "32/32 [==============================] - 0s 7ms/step - loss: 0.6888 - accuracy: 0.7347 - val_loss: 0.7045 - val_accuracy: 0.7301\n",
            "Epoch 165/200\n",
            "32/32 [==============================] - 0s 8ms/step - loss: 0.7032 - accuracy: 0.7235 - val_loss: 0.6908 - val_accuracy: 0.7377\n",
            "Epoch 166/200\n",
            "32/32 [==============================] - 0s 7ms/step - loss: 0.6622 - accuracy: 0.7529 - val_loss: 0.6738 - val_accuracy: 0.7470\n",
            "Epoch 167/200\n",
            "32/32 [==============================] - 0s 8ms/step - loss: 0.6558 - accuracy: 0.7569 - val_loss: 0.8387 - val_accuracy: 0.6589\n",
            "Epoch 168/200\n",
            "32/32 [==============================] - 0s 7ms/step - loss: 0.6735 - accuracy: 0.7453 - val_loss: 0.6828 - val_accuracy: 0.7402\n",
            "Epoch 169/200\n",
            "32/32 [==============================] - 0s 8ms/step - loss: 0.6636 - accuracy: 0.7485 - val_loss: 0.6753 - val_accuracy: 0.7490\n",
            "Epoch 170/200\n",
            "32/32 [==============================] - 0s 7ms/step - loss: 0.6717 - accuracy: 0.7428 - val_loss: 0.7018 - val_accuracy: 0.7206\n",
            "Epoch 171/200\n",
            "32/32 [==============================] - 0s 7ms/step - loss: 0.6727 - accuracy: 0.7427 - val_loss: 0.7069 - val_accuracy: 0.7204\n",
            "Epoch 172/200\n",
            "32/32 [==============================] - 0s 7ms/step - loss: 0.6880 - accuracy: 0.7325 - val_loss: 0.6983 - val_accuracy: 0.7245\n",
            "Epoch 173/200\n",
            "32/32 [==============================] - 0s 8ms/step - loss: 0.6602 - accuracy: 0.7498 - val_loss: 0.6698 - val_accuracy: 0.7510\n",
            "Epoch 174/200\n",
            "32/32 [==============================] - 0s 7ms/step - loss: 0.6567 - accuracy: 0.7536 - val_loss: 0.6729 - val_accuracy: 0.7442\n",
            "Epoch 175/200\n",
            "32/32 [==============================] - 0s 7ms/step - loss: 0.6726 - accuracy: 0.7412 - val_loss: 0.7013 - val_accuracy: 0.7219\n",
            "Epoch 176/200\n",
            "32/32 [==============================] - 0s 7ms/step - loss: 0.6591 - accuracy: 0.7485 - val_loss: 0.6681 - val_accuracy: 0.7497\n",
            "Epoch 177/200\n",
            "32/32 [==============================] - 0s 8ms/step - loss: 0.6697 - accuracy: 0.7405 - val_loss: 0.7099 - val_accuracy: 0.7160\n",
            "Epoch 178/200\n",
            "32/32 [==============================] - 0s 8ms/step - loss: 0.6599 - accuracy: 0.7494 - val_loss: 0.6985 - val_accuracy: 0.7207\n",
            "Epoch 179/200\n",
            "32/32 [==============================] - 0s 7ms/step - loss: 0.6405 - accuracy: 0.7632 - val_loss: 0.7228 - val_accuracy: 0.7016\n",
            "Epoch 180/200\n",
            "32/32 [==============================] - 0s 7ms/step - loss: 0.6719 - accuracy: 0.7406 - val_loss: 0.6782 - val_accuracy: 0.7383\n",
            "Epoch 181/200\n",
            "32/32 [==============================] - 0s 7ms/step - loss: 0.6697 - accuracy: 0.7405 - val_loss: 0.6922 - val_accuracy: 0.7214\n",
            "Epoch 182/200\n",
            "32/32 [==============================] - 0s 7ms/step - loss: 0.6581 - accuracy: 0.7493 - val_loss: 0.6709 - val_accuracy: 0.7441\n",
            "Epoch 183/200\n",
            "32/32 [==============================] - 0s 7ms/step - loss: 0.6469 - accuracy: 0.7561 - val_loss: 0.6788 - val_accuracy: 0.7351\n",
            "Epoch 184/200\n",
            "32/32 [==============================] - 0s 8ms/step - loss: 0.6860 - accuracy: 0.7291 - val_loss: 0.7100 - val_accuracy: 0.7188\n",
            "Epoch 185/200\n",
            "32/32 [==============================] - 0s 8ms/step - loss: 0.6564 - accuracy: 0.7510 - val_loss: 0.6718 - val_accuracy: 0.7420\n",
            "Epoch 186/200\n",
            "32/32 [==============================] - 0s 7ms/step - loss: 0.6347 - accuracy: 0.7669 - val_loss: 0.6511 - val_accuracy: 0.7592\n",
            "Epoch 187/200\n",
            "32/32 [==============================] - 0s 7ms/step - loss: 0.6555 - accuracy: 0.7498 - val_loss: 0.6773 - val_accuracy: 0.7344\n",
            "Epoch 188/200\n",
            "32/32 [==============================] - 0s 7ms/step - loss: 0.6604 - accuracy: 0.7466 - val_loss: 0.7908 - val_accuracy: 0.6866\n",
            "Epoch 189/200\n",
            "32/32 [==============================] - 0s 8ms/step - loss: 0.6671 - accuracy: 0.7415 - val_loss: 0.7157 - val_accuracy: 0.7054\n",
            "Epoch 190/200\n",
            "32/32 [==============================] - 0s 7ms/step - loss: 0.6609 - accuracy: 0.7441 - val_loss: 0.6618 - val_accuracy: 0.7498\n",
            "Epoch 191/200\n",
            "32/32 [==============================] - 0s 8ms/step - loss: 0.6446 - accuracy: 0.7537 - val_loss: 0.6631 - val_accuracy: 0.7459\n",
            "Epoch 192/200\n",
            "32/32 [==============================] - 0s 7ms/step - loss: 0.6264 - accuracy: 0.7688 - val_loss: 0.6544 - val_accuracy: 0.7519\n",
            "Epoch 193/200\n",
            "32/32 [==============================] - 0s 8ms/step - loss: 0.6463 - accuracy: 0.7580 - val_loss: 0.6683 - val_accuracy: 0.7462\n",
            "Epoch 194/200\n",
            "32/32 [==============================] - 0s 7ms/step - loss: 0.6644 - accuracy: 0.7461 - val_loss: 0.7032 - val_accuracy: 0.7140\n",
            "Epoch 195/200\n",
            "32/32 [==============================] - 0s 7ms/step - loss: 0.6371 - accuracy: 0.7598 - val_loss: 0.6655 - val_accuracy: 0.7458\n",
            "Epoch 196/200\n",
            "32/32 [==============================] - 0s 7ms/step - loss: 0.6280 - accuracy: 0.7655 - val_loss: 0.6609 - val_accuracy: 0.7468\n",
            "Epoch 197/200\n",
            "32/32 [==============================] - 0s 7ms/step - loss: 0.6496 - accuracy: 0.7496 - val_loss: 0.7019 - val_accuracy: 0.7175\n",
            "Epoch 198/200\n",
            "32/32 [==============================] - 0s 8ms/step - loss: 0.6812 - accuracy: 0.7301 - val_loss: 0.6527 - val_accuracy: 0.7545\n",
            "Epoch 199/200\n",
            "32/32 [==============================] - 0s 7ms/step - loss: 0.6212 - accuracy: 0.7693 - val_loss: 0.7532 - val_accuracy: 0.6928\n",
            "Epoch 200/200\n",
            "32/32 [==============================] - 0s 7ms/step - loss: 0.6292 - accuracy: 0.7660 - val_loss: 0.6537 - val_accuracy: 0.7523\n"
          ],
          "name": "stdout"
        }
      ]
    },
    {
      "cell_type": "markdown",
      "metadata": {
        "id": "DHgVDHX_lyMa"
      },
      "source": [
        "# 학습한 모델 동작시키기"
      ]
    },
    {
      "cell_type": "code",
      "metadata": {
        "id": "g0DXwLHMU4Dh"
      },
      "source": [
        "## seq2seq without Attention\n",
        "encoder_model = Model(inputs=encoder_inputs, outputs=encoder_states)"
      ],
      "execution_count": null,
      "outputs": []
    },
    {
      "cell_type": "code",
      "metadata": {
        "id": "O56BvGQA4KZ8"
      },
      "source": [
        "## seq2seq with Attention\n",
        "encoder_model = Model(inputs=encoder_inputs, outputs=[encoder_outputs, encoder_states])"
      ],
      "execution_count": null,
      "outputs": []
    },
    {
      "cell_type": "code",
      "metadata": {
        "id": "NZjkYQ0ol8BW"
      },
      "source": [
        "## seq2seq (no Attention) \n",
        "# encoder에서 넘어올 decoder input들 정의\n",
        "decoder_state_input_h=Input(shape=(hidden_node_size,))\n",
        "decoder_state_input_c=Input(shape=(hidden_node_size,))\n",
        "decoder_states_inputs=[decoder_state_input_h,decoder_state_input_c]\n",
        "\n",
        "# 모델 동작 시에는 다음 단어 예측 시 넘겨줄 states들까지 정의 \n",
        "decoder_outputs,state_h,state_c=decoder_lstm(decoder_inputs,initial_state=decoder_states_inputs)\n",
        "decoder_states = [state_h, state_c]\n",
        "\n",
        "decoder_outputs = decoder_softmax_layer(decoder_outputs)\n",
        "decoder_model = Model(inputs=[decoder_inputs] + decoder_states_inputs, outputs=[decoder_outputs] + decoder_states)"
      ],
      "execution_count": null,
      "outputs": []
    },
    {
      "cell_type": "code",
      "metadata": {
        "id": "T4k7IS3x3jIW"
      },
      "source": [
        "# encoder에서 넘어올 decoder input들 정의\n",
        "## seq2seq with Attention\n",
        "decoder_encoder_outputs = Input(shape=(None, hidden_node_size))\n",
        "\n",
        "# 모델 동작 시에는 다음 단어 예측 시 넘겨줄 states들까지 정의 \n",
        "decoder_outputs, state_h, state_c = decoder_lstm(decoder_inputs, initial_state=decoder_states_inputs)\n",
        "decoder_states = [state_h, state_c]\n",
        "\n",
        "## seq2seq with Attention\n",
        "decoder_attention_output = decoder_attention([decoder_encoder_outputs, decoder_outputs])\n",
        "\n",
        "ㄴㄴㅌ\n",
        "decoder_outputs = decoder_softmax_layer(decoder_outputs + decoder_attention_output)\n",
        "\n",
        "decoder_model = Model(inputs=([decoder_inputs] + decoder_states_inputs, decoder_encoder_outputs), \n",
        "                      outputs=[decoder_outputs] + decoder_states)"
      ],
      "execution_count": null,
      "outputs": []
    },
    {
      "cell_type": "code",
      "metadata": {
        "id": "XjJrN6m9nd8b",
        "outputId": "bde2d87a-3859-4fe2-9d3e-24dc083adf4b",
        "colab": {
          "base_uri": "https://localhost:8080/",
          "height": 233
        }
      },
      "source": [
        "encoder_model.summary()\n"
      ],
      "execution_count": null,
      "outputs": [
        {
          "output_type": "stream",
          "text": [
            "Model: \"functional_19\"\n",
            "_________________________________________________________________\n",
            "Layer (type)                 Output Shape              Param #   \n",
            "=================================================================\n",
            "input_41 (InputLayer)        [(None, None, 12)]        0         \n",
            "_________________________________________________________________\n",
            "lstm_6 (LSTM)                [(None, None, 128), (None 72192     \n",
            "=================================================================\n",
            "Total params: 72,192\n",
            "Trainable params: 72,192\n",
            "Non-trainable params: 0\n",
            "_________________________________________________________________\n"
          ],
          "name": "stdout"
        }
      ]
    },
    {
      "cell_type": "code",
      "metadata": {
        "id": "t8-K9ECXmnNs",
        "outputId": "393b1f04-a1ff-41f2-aa91-40419d06cf17",
        "colab": {
          "base_uri": "https://localhost:8080/",
          "height": 521
        }
      },
      "source": [
        "decoder_model.summary()"
      ],
      "execution_count": null,
      "outputs": [
        {
          "output_type": "stream",
          "text": [
            "Model: \"functional_21\"\n",
            "__________________________________________________________________________________________________\n",
            "Layer (type)                    Output Shape         Param #     Connected to                     \n",
            "==================================================================================================\n",
            "input_42 (InputLayer)           [(None, None, 12)]   0                                            \n",
            "__________________________________________________________________________________________________\n",
            "input_44 (InputLayer)           [(None, 128)]        0                                            \n",
            "__________________________________________________________________________________________________\n",
            "input_45 (InputLayer)           [(None, 128)]        0                                            \n",
            "__________________________________________________________________________________________________\n",
            "lstm_7 (LSTM)                   [(None, None, 128),  72192       input_42[0][0]                   \n",
            "                                                                 input_44[0][0]                   \n",
            "                                                                 input_45[0][0]                   \n",
            "__________________________________________________________________________________________________\n",
            "input_43 (InputLayer)           [(None, None, 128)]  0                                            \n",
            "__________________________________________________________________________________________________\n",
            "attention_2 (Attention)         (None, None, 128)    0           input_43[0][0]                   \n",
            "                                                                 lstm_7[1][0]                     \n",
            "__________________________________________________________________________________________________\n",
            "tf_op_layer_AddV2_11 (TensorFlo [(None, None, 128)]  0           lstm_7[1][0]                     \n",
            "                                                                 attention_2[1][0]                \n",
            "__________________________________________________________________________________________________\n",
            "dense_3 (Dense)                 (None, None, 12)     1548        tf_op_layer_AddV2_11[0][0]       \n",
            "==================================================================================================\n",
            "Total params: 73,740\n",
            "Trainable params: 73,740\n",
            "Non-trainable params: 0\n",
            "__________________________________________________________________________________________________\n"
          ],
          "name": "stdout"
        }
      ]
    },
    {
      "cell_type": "code",
      "metadata": {
        "id": "dXs0kqwlnj2A"
      },
      "source": [
        "def decode_sentence(input_seq):\n",
        "  states_value = encoder_model.predict(input_seq)\n",
        "\n",
        "  # 문장의 시작을 알려주는 벡터 생성 => '_'\n",
        "  target_seq = np.zeros((1,1,tar_vocab_size))\n",
        "  target_seq[0, 0, item_to_id['_']] = 1.\n",
        "\n",
        "  # 종료조건 : '_' 가 나오거나, 길이가 5가 됨\n",
        "  stop_condition = False\n",
        "  decoded_sentence = \"\"\n",
        "\n",
        "  # 종료 조건까지 반복\n",
        "  while not stop_condition:\n",
        "    output_tokens, h, c = decoder_model.predict([target_seq] + states_value)\n",
        "    \n",
        "    # 예측 결과를 문자로 변환\n",
        "    sampled_token_index = np.argmax(output_tokens[0, -1, :]) \n",
        "    sampled_char = id_to_item[sampled_token_index]\n",
        "    decoded_sentence += sampled_char \n",
        "    \n",
        "    if sampled_char == '_' or len(decoded_sentence) > 5:\n",
        "      stop_condition = True\n",
        "    \n",
        "    states_value = [h, c]\n",
        "\n",
        "    target_seq = np.zeros((1, 1, tar_vocab_size))\n",
        "    target_seq[0, 0, sampled_token_index] = 1.\n",
        "  \n",
        "  return decoded_sentence"
      ],
      "execution_count": null,
      "outputs": []
    },
    {
      "cell_type": "code",
      "metadata": {
        "id": "AQNvWrsv5MtE"
      },
      "source": [
        "def decode_sentence(input_seq):\n",
        "  ## seq2seq without Attention\n",
        "  # states_value = encoder_model.predict(input_seq)\n",
        "  ## seq2seq with Attention\n",
        "  temp_out = encoder_model.predict(input_seq)\n",
        "  outputs_value, states_value = temp_out[0], temp_out[1]\n",
        "\n",
        "  # 문장의 시작을 알려주는 벡터 생성 => '_'\n",
        "  target_seq = np.zeros((1,1,tar_vocab_size))\n",
        "  target_seq[0, 0, item_to_id['_']] = 1.\n",
        "\n",
        "  # 종료조건 : '_' 가 나오거나, 길이가 5가 됨\n",
        "  stop_condition = False\n",
        "  decoded_sentence = \"\"\n",
        "\n",
        "  # 종료 조건까지 반복\n",
        "  while not stop_condition:  \n",
        "    ## seq2seq without Attention\n",
        "    # output_tokens, h, c = decoder_model.predict([target_seq] + states_value)\n",
        "    ## seq2seq with Attention \n",
        "    output_tokens, h, c = decoder_model.predict(([target_seq] + states_value, outputs_value) )\n",
        "    \n",
        "    # 예측 결과를 문자로 변환\n",
        "    sampled_token_index = np.argmax(output_tokens[0, -1, :]) \n",
        "    sampled_char = id_to_item[sampled_token_index]\n",
        "    decoded_sentence += sampled_char \n",
        "    \n",
        "    if sampled_char == '_' or len(decoded_sentence) > 5:\n",
        "      stop_condition = True\n",
        "    \n",
        "    states_value = [h, c]\n",
        "\n",
        "    target_seq = np.zeros((1, 1, tar_vocab_size))\n",
        "    target_seq[0, 0, sampled_token_index] = 1.\n",
        "  \n",
        "  return decoded_sentence"
      ],
      "execution_count": null,
      "outputs": []
    },
    {
      "cell_type": "code",
      "metadata": {
        "id": "9UeVZbpxqrOS",
        "outputId": "cdb4f3e2-912f-4daf-b45b-cee64a036c73",
        "colab": {
          "base_uri": "https://localhost:8080/",
          "height": 35
        }
      },
      "source": [
        "onehot_to_sentence(test_x[0], id_to_item)"
      ],
      "execution_count": null,
      "outputs": [
        {
          "output_type": "execute_result",
          "data": {
            "text/plain": [
              "['7', '9', '2', '+', '7', '6', '6']"
            ]
          },
          "metadata": {
            "tags": []
          },
          "execution_count": 109
        }
      ]
    },
    {
      "cell_type": "code",
      "metadata": {
        "id": "nZdQlvrOquGm",
        "outputId": "1e8d1c2a-61cc-42b5-ad17-9fd136709312",
        "colab": {
          "base_uri": "https://localhost:8080/",
          "height": 73
        }
      },
      "source": [
        "input_seq = test_x[0:1]\n",
        "decode_sentence(input_seq)"
      ],
      "execution_count": null,
      "outputs": [
        {
          "output_type": "stream",
          "text": [
            "WARNING:tensorflow:5 out of the last 53 calls to <function Model.make_predict_function.<locals>.predict_function at 0x7fe3f31a1c80> triggered tf.function retracing. Tracing is expensive and the excessive number of tracings could be due to (1) creating @tf.function repeatedly in a loop, (2) passing tensors with different shapes, (3) passing Python objects instead of tensors. For (1), please define your @tf.function outside of the loop. For (2), @tf.function has experimental_relax_shapes=True option that relaxes argument shapes that can avoid unnecessary retracing. For (3), please refer to https://www.tensorflow.org/tutorials/customization/performance#python_or_tensor_args and https://www.tensorflow.org/api_docs/python/tf/function for  more details.\n"
          ],
          "name": "stdout"
        },
        {
          "output_type": "execute_result",
          "data": {
            "application/vnd.google.colaboratory.intrinsic+json": {
              "type": "string"
            },
            "text/plain": [
              "'1555_'"
            ]
          },
          "metadata": {
            "tags": []
          },
          "execution_count": 110
        }
      ]
    },
    {
      "cell_type": "code",
      "metadata": {
        "id": "i87z2pqxq2ez"
      },
      "source": [
        "test_idxs = np.random.choice(list(range(len(test_x))), replace=False, size=5)"
      ],
      "execution_count": null,
      "outputs": []
    },
    {
      "cell_type": "code",
      "metadata": {
        "id": "P4abjLOJrY0u",
        "outputId": "add6a48b-c64e-48fd-a5fc-7d987a100580",
        "colab": {
          "base_uri": "https://localhost:8080/",
          "height": 377
        }
      },
      "source": [
        "for idx in test_idxs:\n",
        "  input_seq = test_x[idx:idx+1]\n",
        "  decoded_sentence = decode_sentence(input_seq)\n",
        "\n",
        "  print( 35 * '-')\n",
        "  print('입력 문장', onehot_to_sentence(test_x[idx], id_to_item ))\n",
        "  print('정답 문장', onehot_to_sentence(test_y[idx], id_to_item ))\n",
        "  print('모델이 예측한 문장', decoded_sentence[:-1] ) "
      ],
      "execution_count": null,
      "outputs": [
        {
          "output_type": "stream",
          "text": [
            "-----------------------------------\n",
            "입력 문장 ['9', '3', '7', '+', '7', '0', '3']\n",
            "정답 문장 ['_', '1', '6', '4', '0']\n",
            "모델이 예측한 문장 165\n",
            "-----------------------------------\n",
            "입력 문장 ['6', '9', '3', '+', '2', '1', '6']\n",
            "정답 문장 ['_', '0', '9', '0', '9']\n",
            "모델이 예측한 문장 0934\n",
            "-----------------------------------\n",
            "입력 문장 ['7', '9', '4', '+', '4', '0', '4']\n",
            "정답 문장 ['_', '1', '1', '9', '8']\n",
            "모델이 예측한 문장 1225\n",
            "-----------------------------------\n",
            "입력 문장 ['0', '8', '9', '3', '+', '6', '0']\n",
            "정답 문장 ['_', '0', '9', '5', '3']\n",
            "모델이 예측한 문장 0955\n",
            "-----------------------------------\n",
            "입력 문장 ['9', '8', '6', '+', '3', '6', '5']\n",
            "정답 문장 ['_', '1', '3', '5', '1']\n",
            "모델이 예측한 문장 1355\n"
          ],
          "name": "stdout"
        }
      ]
    },
    {
      "cell_type": "code",
      "metadata": {
        "id": "jT2mFktHravx"
      },
      "source": [
        ""
      ],
      "execution_count": null,
      "outputs": []
    }
  ]
}