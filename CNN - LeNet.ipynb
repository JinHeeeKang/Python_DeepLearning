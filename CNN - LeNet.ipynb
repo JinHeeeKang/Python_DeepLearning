{
  "nbformat": 4,
  "nbformat_minor": 0,
  "metadata": {
    "colab": {
      "name": "0917DL.ipynb",
      "provenance": [],
      "collapsed_sections": [],
      "authorship_tag": "ABX9TyPUM1tyVy4S7LE7A6ooCVb4",
      "include_colab_link": true
    },
    "kernelspec": {
      "name": "python3",
      "display_name": "Python 3"
    },
    "accelerator": "GPU"
  },
  "cells": [
    {
      "cell_type": "markdown",
      "metadata": {
        "id": "view-in-github",
        "colab_type": "text"
      },
      "source": [
        "<a href=\"https://colab.research.google.com/github/JinHeeeKang/Playdata_Python/blob/master/0917.ipynb\" target=\"_parent\"><img src=\"https://colab.research.google.com/assets/colab-badge.svg\" alt=\"Open In Colab\"/></a>"
      ]
    },
    {
      "cell_type": "markdown",
      "metadata": {
        "id": "iI5DkY4jfbFq",
        "colab_type": "text"
      },
      "source": [
        "# CNN - LeNet\n",
        "- 손글씨 숫자를 인식하는 네트워크\n"
      ]
    },
    {
      "cell_type": "markdown",
      "metadata": {
        "id": "-4KAqCDrKw2f",
        "colab_type": "text"
      },
      "source": [
        "## Sequential을 이용해 모델 생성 및 학습\n",
        "- fashion_mnist"
      ]
    },
    {
      "cell_type": "code",
      "metadata": {
        "id": "_GyQ24TUfX3w",
        "colab_type": "code",
        "colab": {}
      },
      "source": [
        "import tensorflow as tf"
      ],
      "execution_count": null,
      "outputs": []
    },
    {
      "cell_type": "code",
      "metadata": {
        "id": "qUmr9Vuz2x6E",
        "colab_type": "code",
        "colab": {}
      },
      "source": [
        "fashion_mnist=tf.keras.datasets.fashion_mnist\n",
        "\n",
        "(x_train,y_train),(x_test,y_test)=fashion_mnist.load_data()\n",
        "\n",
        "#정규화\n",
        "x_train,x_test=x_train/255.0,x_test/255.0"
      ],
      "execution_count": null,
      "outputs": []
    },
    {
      "cell_type": "code",
      "metadata": {
        "id": "YyL3RaLwvlrg",
        "colab_type": "code",
        "colab": {
          "base_uri": "https://localhost:8080/",
          "height": 283
        },
        "outputId": "f0342817-1039-48e3-f9fa-33cd82c3f051"
      },
      "source": [
        "import matplotlib.pyplot as plt\n",
        "\n",
        "plt.imshow(x_train[0])"
      ],
      "execution_count": null,
      "outputs": [
        {
          "output_type": "execute_result",
          "data": {
            "text/plain": [
              "<matplotlib.image.AxesImage at 0x7fdf94fc6a58>"
            ]
          },
          "metadata": {
            "tags": []
          },
          "execution_count": 5
        },
        {
          "output_type": "display_data",
          "data": {
            "image/png": "[encoded data removed]",
            "text/plain": [
              "<Figure size 432x288 with 1 Axes>"
            ]
          },
          "metadata": {
            "tags": [],
            "needs_background": "light"
          }
        }
      ]
    },
    {
      "cell_type": "markdown",
      "metadata": {
        "id": "TnF1R6k73i7w",
        "colab_type": "text"
      },
      "source": [
        "### 모델 안에서 이루어 지는 과정\n",
        "\n",
        "    1.Input\n",
        "    2.Convolutions  \n",
        "    3.Subsampling(Pooling)  \n",
        "    4.Convolutions     \n",
        "    5.Subsampling(Pooling)  \n",
        "    6.Fully connection(Dense)  \n",
        "    7.Fully connection(Dense)  \n",
        "    8.Fully connection(Output)  \n"
      ]
    },
    {
      "cell_type": "markdown",
      "metadata": {
        "id": "QB2eBnbR_D6h",
        "colab_type": "text"
      },
      "source": [
        "### 필터\n",
        "- 가중치를 곱해서 사이즈 줄이는 것  \n",
        "- 이미지에 각각 필터를 다 넣어봄  \n",
        "컨볼루션 연산을 해서 나온 output의 값이 신경망 어딘가에 저장되어있는게 아님\n",
        "- 크기는 설정해주기 나름, 같을수도 다 다를수도있음   \n",
        "\n",
        "\n"
      ]
    },
    {
      "cell_type": "code",
      "metadata": {
        "id": "efdG9b5y2xw8",
        "colab_type": "code",
        "colab": {}
      },
      "source": [
        "#필터가 (3,3)\n",
        "model1=tf.keras.models.Sequential(\n",
        "    [\n",
        "        # 1.Input\n",
        "        # 2.Convolutions(filter 수 : 6)\n",
        "        tf.keras.layers.Conv2D(6,(3,3),activation='sigmoid',input_shape=(28,28,1)),\n",
        "\n",
        "        # 3.Subsampling(Pooling)\n",
        "        tf.keras.layers.MaxPool2D((2,2)),\n",
        "\n",
        "        # 4.Convolutions(filter 수 : 16)\n",
        "        tf.keras.layers.Conv2D(16,(3,3),activation='sigmoid'),\n",
        "\n",
        "        # 5.Subsampling(Pooling)\n",
        "        tf.keras.layers.MaxPool2D((2,2)),\n",
        "\n",
        "        # 6.Fully connection(Dense)\n",
        "        tf.keras.layers.Flatten(),\n",
        "        tf.keras.layers.Dense(120,activation='sigmoid'),\n",
        "\n",
        "        # 7.Fully connection(Dense)\n",
        "        tf.keras.layers.Dense(84,activation='sigmoid'),\n",
        "\n",
        "        # 8.Fully connection(Output)\n",
        "        tf.keras.layers.Dense(10,activation='softmax')\n",
        "                                  \n",
        "])"
      ],
      "execution_count": null,
      "outputs": []
    },
    {
      "cell_type": "markdown",
      "metadata": {
        "id": "m3M2NdOohPgB",
        "colab_type": "text"
      },
      "source": [
        "- 책 p257 그림 7-27  모델 짜보기\n",
        "\n",
        "    필터 5*5\n"
      ]
    },
    {
      "cell_type": "code",
      "metadata": {
        "id": "TZkxIQtJ2xuV",
        "colab_type": "code",
        "colab": {}
      },
      "source": [
        "#필터가 (5,5)\n",
        "model = tf.keras.models.Sequential(\n",
        "   [ \n",
        "    # 1.Input\n",
        "    # 2.Convolutions(filter 6)\n",
        "    tf.keras.layers.Conv2D(6,(5,5),activation='sigmoid',input_shape=(28,28,1)),\n",
        "    # 3.Subsampling(Pooling)\n",
        "    tf.keras.layers.AveragePooling2D((2,2)),\n",
        "    # 4.Convolutions(filter 16)\n",
        "    tf.keras.layers.Conv2D(16,(5,5),activation='sigmoid'),\n",
        "    # 5.Subsampling(Pooling)\n",
        "    tf.keras.layers.AveragePooling2D((2,2)),\n",
        "    # 6.Fully connection(Dense) 16*5*5 -> Flatten 하고 120개로 Fully connection\n",
        "    tf.keras.layers.Flatten(),\n",
        "    tf.keras.layers.Dense(120,activation='sigmoid'),\n",
        "    # 7.Fully connection(Dense)\n",
        "    tf.keras.layers.Dense(84,activation='sigmoid'),\n",
        "    # 8.Fully connection(Output)\n",
        "    tf.keras.layers.Dense(10,activation='softmax')\n",
        "    \n",
        "])"
      ],
      "execution_count": null,
      "outputs": []
    },
    {
      "cell_type": "code",
      "metadata": {
        "id": "kHtuXXCUwK2H",
        "colab_type": "code",
        "colab": {
          "base_uri": "https://localhost:8080/",
          "height": 444
        },
        "outputId": "35e195d3-02d9-4c80-8883-e76661225945"
      },
      "source": [
        "model.build()\n",
        "model.summary()"
      ],
      "execution_count": null,
      "outputs": [
        {
          "output_type": "stream",
          "text": [
            "Model: \"sequential_6\"\n",
            "_________________________________________________________________\n",
            "Layer (type)                 Output Shape              Param #   \n",
            "=================================================================\n",
            "conv2d_12 (Conv2D)           (None, 24, 24, 6)         156       \n",
            "_________________________________________________________________\n",
            "average_pooling2d_10 (Averag (None, 12, 12, 6)         0         \n",
            "_________________________________________________________________\n",
            "conv2d_13 (Conv2D)           (None, 8, 8, 16)          2416      \n",
            "_________________________________________________________________\n",
            "average_pooling2d_11 (Averag (None, 4, 4, 16)          0         \n",
            "_________________________________________________________________\n",
            "flatten_6 (Flatten)          (None, 256)               0         \n",
            "_________________________________________________________________\n",
            "dense_18 (Dense)             (None, 120)               30840     \n",
            "_________________________________________________________________\n",
            "dense_19 (Dense)             (None, 84)                10164     \n",
            "_________________________________________________________________\n",
            "dense_20 (Dense)             (None, 10)                850       \n",
            "=================================================================\n",
            "Total params: 44,426\n",
            "Trainable params: 44,426\n",
            "Non-trainable params: 0\n",
            "_________________________________________________________________\n"
          ],
          "name": "stdout"
        }
      ]
    },
    {
      "cell_type": "markdown",
      "metadata": {
        "id": "_k6g5CIZ-h6u",
        "colab_type": "text"
      },
      "source": [
        "### optimizer\n",
        "- SGD 경사하강법\n",
        "\n"
      ]
    },
    {
      "cell_type": "code",
      "metadata": {
        "id": "WMhYu4avyIgf",
        "colab_type": "code",
        "colab": {}
      },
      "source": [
        "model.compile(\n",
        "    optimizer=tf.keras.optimizers.SGD(learning_rate=0.01,momentum=0.5),\n",
        "    # loss=tf.keras.losses.CategoricalCrossentropy(),\n",
        "    loss=tf.keras.losses.SparseCategoricalCrossentropy(),\n",
        "    metrics=['accuracy']\n",
        ")"
      ],
      "execution_count": null,
      "outputs": []
    },
    {
      "cell_type": "code",
      "metadata": {
        "id": "lUgtl_lmzfz5",
        "colab_type": "code",
        "colab": {}
      },
      "source": [
        "x_train=x_train[..., tf.newaxis] #차원 늘리기 ...은 전부를 가리킴\n",
        "x_test=x_test[..., tf.newaxis]"
      ],
      "execution_count": null,
      "outputs": []
    },
    {
      "cell_type": "code",
      "metadata": {
        "id": "6SQsIEg2zvge",
        "colab_type": "code",
        "colab": {
          "base_uri": "https://localhost:8080/",
          "height": 35
        },
        "outputId": "801bd52e-7b43-4133-e0a7-d9cd20f2c453"
      },
      "source": [
        "x_train.shape, x_test.shape"
      ],
      "execution_count": null,
      "outputs": [
        {
          "output_type": "execute_result",
          "data": {
            "text/plain": [
              "((60000, 28, 28, 1), (10000, 28, 28, 1))"
            ]
          },
          "metadata": {
            "tags": []
          },
          "execution_count": 41
        }
      ]
    },
    {
      "cell_type": "code",
      "metadata": {
        "id": "nHC3_7g7xzsR",
        "colab_type": "code",
        "colab": {
          "base_uri": "https://localhost:8080/",
          "height": 1000
        },
        "outputId": "36f964d2-014f-49c3-81ec-beb1b377228b"
      },
      "source": [
        "history=model.fit(x_train, y_train, epochs=50,validation_data=(x_test,y_test))"
      ],
      "execution_count": null,
      "outputs": [
        {
          "output_type": "stream",
          "text": [
            "Epoch 1/50\n",
            "1875/1875 [==============================] - 5s 3ms/step - loss: 2.3072 - accuracy: 0.1000 - val_loss: 2.3056 - val_accuracy: 0.1000\n",
            "Epoch 2/50\n",
            "1875/1875 [==============================] - 5s 2ms/step - loss: 2.3055 - accuracy: 0.1006 - val_loss: 2.3047 - val_accuracy: 0.1000\n",
            "Epoch 3/50\n",
            "1875/1875 [==============================] - 5s 2ms/step - loss: 2.3044 - accuracy: 0.1028 - val_loss: 2.3037 - val_accuracy: 0.1286\n",
            "Epoch 4/50\n",
            "1875/1875 [==============================] - 5s 3ms/step - loss: 2.2995 - accuracy: 0.1157 - val_loss: 2.2921 - val_accuracy: 0.1000\n",
            "Epoch 5/50\n",
            "1875/1875 [==============================] - 5s 2ms/step - loss: 2.2416 - accuracy: 0.1927 - val_loss: 2.0738 - val_accuracy: 0.3232\n",
            "Epoch 6/50\n",
            "1875/1875 [==============================] - 5s 2ms/step - loss: 1.7041 - accuracy: 0.4238 - val_loss: 1.3744 - val_accuracy: 0.5138\n",
            "Epoch 7/50\n",
            "1875/1875 [==============================] - 5s 2ms/step - loss: 1.2059 - accuracy: 0.5656 - val_loss: 1.0850 - val_accuracy: 0.5996\n",
            "Epoch 8/50\n",
            "1875/1875 [==============================] - 5s 2ms/step - loss: 1.0169 - accuracy: 0.6229 - val_loss: 0.9755 - val_accuracy: 0.6376\n",
            "Epoch 9/50\n",
            "1875/1875 [==============================] - 5s 2ms/step - loss: 0.9340 - accuracy: 0.6585 - val_loss: 0.9171 - val_accuracy: 0.6583\n",
            "Epoch 10/50\n",
            "1875/1875 [==============================] - 5s 2ms/step - loss: 0.8844 - accuracy: 0.6754 - val_loss: 0.8779 - val_accuracy: 0.6776\n",
            "Epoch 11/50\n",
            "1875/1875 [==============================] - 5s 2ms/step - loss: 0.8495 - accuracy: 0.6877 - val_loss: 0.8515 - val_accuracy: 0.6872\n",
            "Epoch 12/50\n",
            "1875/1875 [==============================] - 5s 2ms/step - loss: 0.8204 - accuracy: 0.6979 - val_loss: 0.8242 - val_accuracy: 0.6989\n",
            "Epoch 13/50\n",
            "1875/1875 [==============================] - 5s 2ms/step - loss: 0.7927 - accuracy: 0.7061 - val_loss: 0.8009 - val_accuracy: 0.7012\n",
            "Epoch 14/50\n",
            "1875/1875 [==============================] - 5s 2ms/step - loss: 0.7660 - accuracy: 0.7152 - val_loss: 0.7730 - val_accuracy: 0.7109\n",
            "Epoch 15/50\n",
            "1875/1875 [==============================] - 5s 2ms/step - loss: 0.7404 - accuracy: 0.7225 - val_loss: 0.7462 - val_accuracy: 0.7225\n",
            "Epoch 16/50\n",
            "1875/1875 [==============================] - 5s 2ms/step - loss: 0.7173 - accuracy: 0.7280 - val_loss: 0.7298 - val_accuracy: 0.7280\n",
            "Epoch 17/50\n",
            "1875/1875 [==============================] - 5s 2ms/step - loss: 0.6974 - accuracy: 0.7325 - val_loss: 0.7105 - val_accuracy: 0.7300\n",
            "Epoch 18/50\n",
            "1875/1875 [==============================] - 5s 2ms/step - loss: 0.6805 - accuracy: 0.7395 - val_loss: 0.6933 - val_accuracy: 0.7339\n",
            "Epoch 19/50\n",
            "1875/1875 [==============================] - 5s 2ms/step - loss: 0.6656 - accuracy: 0.7434 - val_loss: 0.6779 - val_accuracy: 0.7408\n",
            "Epoch 20/50\n",
            "1875/1875 [==============================] - 5s 2ms/step - loss: 0.6528 - accuracy: 0.7481 - val_loss: 0.6690 - val_accuracy: 0.7441\n",
            "Epoch 21/50\n",
            "1875/1875 [==============================] - 5s 2ms/step - loss: 0.6411 - accuracy: 0.7528 - val_loss: 0.6552 - val_accuracy: 0.7470\n",
            "Epoch 22/50\n",
            "1875/1875 [==============================] - 5s 2ms/step - loss: 0.6297 - accuracy: 0.7558 - val_loss: 0.6445 - val_accuracy: 0.7535\n",
            "Epoch 23/50\n",
            "1875/1875 [==============================] - 5s 2ms/step - loss: 0.6190 - accuracy: 0.7604 - val_loss: 0.6419 - val_accuracy: 0.7533\n",
            "Epoch 24/50\n",
            "1875/1875 [==============================] - 5s 2ms/step - loss: 0.6094 - accuracy: 0.7643 - val_loss: 0.6278 - val_accuracy: 0.7617\n",
            "Epoch 25/50\n",
            "1875/1875 [==============================] - 5s 2ms/step - loss: 0.5993 - accuracy: 0.7679 - val_loss: 0.6172 - val_accuracy: 0.7634\n",
            "Epoch 26/50\n",
            "1875/1875 [==============================] - 5s 2ms/step - loss: 0.5901 - accuracy: 0.7720 - val_loss: 0.6070 - val_accuracy: 0.7671\n",
            "Epoch 27/50\n",
            "1875/1875 [==============================] - 5s 2ms/step - loss: 0.5808 - accuracy: 0.7760 - val_loss: 0.5981 - val_accuracy: 0.7740\n",
            "Epoch 28/50\n",
            "1875/1875 [==============================] - 5s 2ms/step - loss: 0.5715 - accuracy: 0.7794 - val_loss: 0.6022 - val_accuracy: 0.7653\n",
            "Epoch 29/50\n",
            "1875/1875 [==============================] - 5s 2ms/step - loss: 0.5630 - accuracy: 0.7822 - val_loss: 0.5867 - val_accuracy: 0.7787\n",
            "Epoch 30/50\n",
            "1875/1875 [==============================] - 5s 2ms/step - loss: 0.5548 - accuracy: 0.7853 - val_loss: 0.5731 - val_accuracy: 0.7836\n",
            "Epoch 31/50\n",
            "1875/1875 [==============================] - 5s 2ms/step - loss: 0.5475 - accuracy: 0.7883 - val_loss: 0.5711 - val_accuracy: 0.7881\n",
            "Epoch 32/50\n",
            "1875/1875 [==============================] - 5s 2ms/step - loss: 0.5396 - accuracy: 0.7905 - val_loss: 0.5580 - val_accuracy: 0.7875\n",
            "Epoch 33/50\n",
            "1875/1875 [==============================] - 5s 2ms/step - loss: 0.5328 - accuracy: 0.7940 - val_loss: 0.5579 - val_accuracy: 0.7870\n",
            "Epoch 34/50\n",
            "1875/1875 [==============================] - 5s 2ms/step - loss: 0.5263 - accuracy: 0.7962 - val_loss: 0.5511 - val_accuracy: 0.7857\n",
            "Epoch 35/50\n",
            "1875/1875 [==============================] - 5s 2ms/step - loss: 0.5203 - accuracy: 0.7995 - val_loss: 0.5439 - val_accuracy: 0.7958\n",
            "Epoch 36/50\n",
            "1875/1875 [==============================] - 5s 2ms/step - loss: 0.5138 - accuracy: 0.8018 - val_loss: 0.5348 - val_accuracy: 0.7932\n",
            "Epoch 37/50\n",
            "1875/1875 [==============================] - 5s 2ms/step - loss: 0.5088 - accuracy: 0.8037 - val_loss: 0.5292 - val_accuracy: 0.7948\n",
            "Epoch 38/50\n",
            "1875/1875 [==============================] - 5s 2ms/step - loss: 0.5033 - accuracy: 0.8065 - val_loss: 0.5263 - val_accuracy: 0.7990\n",
            "Epoch 39/50\n",
            "1875/1875 [==============================] - 5s 2ms/step - loss: 0.4981 - accuracy: 0.8096 - val_loss: 0.5259 - val_accuracy: 0.7965\n",
            "Epoch 40/50\n",
            "1875/1875 [==============================] - 5s 2ms/step - loss: 0.4935 - accuracy: 0.8118 - val_loss: 0.5171 - val_accuracy: 0.8064\n",
            "Epoch 41/50\n",
            "1875/1875 [==============================] - 4s 2ms/step - loss: 0.4888 - accuracy: 0.8123 - val_loss: 0.5119 - val_accuracy: 0.8094\n",
            "Epoch 42/50\n",
            "1875/1875 [==============================] - 5s 2ms/step - loss: 0.4848 - accuracy: 0.8157 - val_loss: 0.5091 - val_accuracy: 0.8081\n",
            "Epoch 43/50\n",
            "1875/1875 [==============================] - 5s 2ms/step - loss: 0.4802 - accuracy: 0.8173 - val_loss: 0.5032 - val_accuracy: 0.8115\n",
            "Epoch 44/50\n",
            "1875/1875 [==============================] - 5s 2ms/step - loss: 0.4763 - accuracy: 0.8194 - val_loss: 0.5010 - val_accuracy: 0.8135\n",
            "Epoch 45/50\n",
            "1875/1875 [==============================] - 5s 2ms/step - loss: 0.4728 - accuracy: 0.8214 - val_loss: 0.4995 - val_accuracy: 0.8119\n",
            "Epoch 46/50\n",
            "1875/1875 [==============================] - 5s 2ms/step - loss: 0.4682 - accuracy: 0.8236 - val_loss: 0.4902 - val_accuracy: 0.8158\n",
            "Epoch 47/50\n",
            "1875/1875 [==============================] - 5s 2ms/step - loss: 0.4647 - accuracy: 0.8260 - val_loss: 0.4905 - val_accuracy: 0.8196\n",
            "Epoch 48/50\n",
            "1875/1875 [==============================] - 5s 2ms/step - loss: 0.4610 - accuracy: 0.8270 - val_loss: 0.4897 - val_accuracy: 0.8132\n",
            "Epoch 49/50\n",
            "1875/1875 [==============================] - 4s 2ms/step - loss: 0.4580 - accuracy: 0.8286 - val_loss: 0.4835 - val_accuracy: 0.8239\n",
            "Epoch 50/50\n",
            "1875/1875 [==============================] - 5s 2ms/step - loss: 0.4543 - accuracy: 0.8309 - val_loss: 0.4792 - val_accuracy: 0.8230\n"
          ],
          "name": "stdout"
        }
      ]
    },
    {
      "cell_type": "code",
      "metadata": {
        "id": "wViOp5D-zzZ6",
        "colab_type": "code",
        "colab": {
          "base_uri": "https://localhost:8080/",
          "height": 320
        },
        "outputId": "c6cc7410-4973-4cec-dc03-35e5e3a178f0"
      },
      "source": [
        "import pandas as pd\n",
        "import matplotlib.pyplot as plt\n",
        "\n",
        "pd.DataFrame(history.history).plot(figsize=(8,5))\n",
        "plt.grid(True)\n",
        "plt.show()"
      ],
      "execution_count": null,
      "outputs": [
        {
          "output_type": "display_data",
          "data": {
            "image/png": "[encoded data removed]",
            "text/plain": [
              "<Figure size 576x360 with 1 Axes>"
            ]
          },
          "metadata": {
            "tags": [],
            "needs_background": "light"
          }
        }
      ]
    },
    {
      "cell_type": "markdown",
      "metadata": {
        "id": "dwGXXhwb94gr",
        "colab_type": "text"
      },
      "source": [
        "### optimizer\n",
        "- Adam\n"
      ]
    },
    {
      "cell_type": "code",
      "metadata": {
        "id": "gIQuUHQc6OJv",
        "colab_type": "code",
        "colab": {}
      },
      "source": [
        "model.compile(\n",
        "    optimizer=tf.keras.optimizers.Adam(learning_rate=0.01,),\n",
        "    # loss=tf.keras.losses.CategoricalCrossentropy(),\n",
        "    loss=tf.keras.losses.SparseCategoricalCrossentropy(),\n",
        "    metrics=['accuracy']\n",
        ")"
      ],
      "execution_count": null,
      "outputs": []
    },
    {
      "cell_type": "code",
      "metadata": {
        "id": "GTfxdyy_-O5u",
        "colab_type": "code",
        "colab": {
          "base_uri": "https://localhost:8080/",
          "height": 35
        },
        "outputId": "5c5cecc2-1fc1-4c03-aea9-a4646439f886"
      },
      "source": [
        "x_train=x_train[..., tf.newaxis] #차원 늘리기\n",
        "x_test=x_test[..., tf.newaxis]\n",
        "x_train.shape, x_test.shape"
      ],
      "execution_count": null,
      "outputs": [
        {
          "output_type": "execute_result",
          "data": {
            "text/plain": [
              "((60000, 28, 28, 1), (10000, 28, 28, 1))"
            ]
          },
          "metadata": {
            "tags": []
          },
          "execution_count": 47
        }
      ]
    },
    {
      "cell_type": "code",
      "metadata": {
        "id": "MgK2YwJE-VbZ",
        "colab_type": "code",
        "colab": {
          "base_uri": "https://localhost:8080/",
          "height": 1000
        },
        "outputId": "7747ab47-a156-4ab9-aded-2a1be201e422"
      },
      "source": [
        "history2=model.fit(x_train, y_train, epochs=50,validation_data=(x_test,y_test))"
      ],
      "execution_count": null,
      "outputs": [
        {
          "output_type": "stream",
          "text": [
            "Epoch 1/50\n",
            "1875/1875 [==============================] - 5s 2ms/step - loss: 0.8053 - accuracy: 0.6882 - val_loss: 0.5676 - val_accuracy: 0.7761\n",
            "Epoch 2/50\n",
            "1875/1875 [==============================] - 5s 2ms/step - loss: 0.4979 - accuracy: 0.8092 - val_loss: 0.4889 - val_accuracy: 0.8201\n",
            "Epoch 3/50\n",
            "1875/1875 [==============================] - 5s 2ms/step - loss: 0.4411 - accuracy: 0.8340 - val_loss: 0.4549 - val_accuracy: 0.8322\n",
            "Epoch 4/50\n",
            "1875/1875 [==============================] - 5s 2ms/step - loss: 0.4055 - accuracy: 0.8497 - val_loss: 0.4130 - val_accuracy: 0.8528\n",
            "Epoch 5/50\n",
            "1875/1875 [==============================] - 5s 2ms/step - loss: 0.3810 - accuracy: 0.8580 - val_loss: 0.4201 - val_accuracy: 0.8461\n",
            "Epoch 6/50\n",
            "1875/1875 [==============================] - 5s 2ms/step - loss: 0.3616 - accuracy: 0.8658 - val_loss: 0.4005 - val_accuracy: 0.8588\n",
            "Epoch 7/50\n",
            "1875/1875 [==============================] - 5s 2ms/step - loss: 0.3533 - accuracy: 0.8685 - val_loss: 0.4083 - val_accuracy: 0.8566\n",
            "Epoch 8/50\n",
            "1875/1875 [==============================] - 5s 2ms/step - loss: 0.3427 - accuracy: 0.8733 - val_loss: 0.3822 - val_accuracy: 0.8634\n",
            "Epoch 9/50\n",
            "1875/1875 [==============================] - 5s 2ms/step - loss: 0.3341 - accuracy: 0.8769 - val_loss: 0.3881 - val_accuracy: 0.8635\n",
            "Epoch 10/50\n",
            "1875/1875 [==============================] - 5s 2ms/step - loss: 0.3312 - accuracy: 0.8782 - val_loss: 0.3503 - val_accuracy: 0.8765\n",
            "Epoch 11/50\n",
            "1875/1875 [==============================] - 5s 2ms/step - loss: 0.3194 - accuracy: 0.8831 - val_loss: 0.3634 - val_accuracy: 0.8717\n",
            "Epoch 12/50\n",
            "1875/1875 [==============================] - 5s 2ms/step - loss: 0.3188 - accuracy: 0.8841 - val_loss: 0.3719 - val_accuracy: 0.8653\n",
            "Epoch 13/50\n",
            "1875/1875 [==============================] - 5s 2ms/step - loss: 0.3103 - accuracy: 0.8846 - val_loss: 0.3637 - val_accuracy: 0.8696\n",
            "Epoch 14/50\n",
            "1875/1875 [==============================] - 5s 2ms/step - loss: 0.3028 - accuracy: 0.8883 - val_loss: 0.3512 - val_accuracy: 0.8754\n",
            "Epoch 15/50\n",
            "1875/1875 [==============================] - 5s 2ms/step - loss: 0.2981 - accuracy: 0.8910 - val_loss: 0.3607 - val_accuracy: 0.8729\n",
            "Epoch 16/50\n",
            "1875/1875 [==============================] - 5s 2ms/step - loss: 0.2991 - accuracy: 0.8898 - val_loss: 0.3672 - val_accuracy: 0.8668\n",
            "Epoch 17/50\n",
            "1875/1875 [==============================] - 5s 2ms/step - loss: 0.2960 - accuracy: 0.8918 - val_loss: 0.3503 - val_accuracy: 0.8819\n",
            "Epoch 18/50\n",
            "1875/1875 [==============================] - 5s 2ms/step - loss: 0.2902 - accuracy: 0.8939 - val_loss: 0.3364 - val_accuracy: 0.8827\n",
            "Epoch 19/50\n",
            "1875/1875 [==============================] - 5s 2ms/step - loss: 0.2842 - accuracy: 0.8968 - val_loss: 0.3818 - val_accuracy: 0.8692\n",
            "Epoch 20/50\n",
            "1875/1875 [==============================] - 5s 2ms/step - loss: 0.2796 - accuracy: 0.8976 - val_loss: 0.3454 - val_accuracy: 0.8823\n",
            "Epoch 21/50\n",
            "1875/1875 [==============================] - 5s 2ms/step - loss: 0.2774 - accuracy: 0.9006 - val_loss: 0.3539 - val_accuracy: 0.8837\n",
            "Epoch 22/50\n",
            "1875/1875 [==============================] - 5s 2ms/step - loss: 0.2752 - accuracy: 0.9001 - val_loss: 0.3595 - val_accuracy: 0.8783\n",
            "Epoch 23/50\n",
            "1875/1875 [==============================] - 5s 2ms/step - loss: 0.2767 - accuracy: 0.8992 - val_loss: 0.3377 - val_accuracy: 0.8879\n",
            "Epoch 24/50\n",
            "1875/1875 [==============================] - 5s 2ms/step - loss: 0.2690 - accuracy: 0.9024 - val_loss: 0.3336 - val_accuracy: 0.8846\n",
            "Epoch 25/50\n",
            "1875/1875 [==============================] - 5s 2ms/step - loss: 0.2659 - accuracy: 0.9034 - val_loss: 0.3503 - val_accuracy: 0.8788\n",
            "Epoch 26/50\n",
            "1875/1875 [==============================] - 5s 3ms/step - loss: 0.2637 - accuracy: 0.9041 - val_loss: 0.3375 - val_accuracy: 0.8828\n",
            "Epoch 27/50\n",
            "1875/1875 [==============================] - 5s 3ms/step - loss: 0.2578 - accuracy: 0.9049 - val_loss: 0.3404 - val_accuracy: 0.8867\n",
            "Epoch 28/50\n",
            "1875/1875 [==============================] - 5s 3ms/step - loss: 0.2558 - accuracy: 0.9065 - val_loss: 0.3694 - val_accuracy: 0.8778\n",
            "Epoch 29/50\n",
            "1875/1875 [==============================] - 5s 2ms/step - loss: 0.2506 - accuracy: 0.9092 - val_loss: 0.3352 - val_accuracy: 0.8899\n",
            "Epoch 30/50\n",
            "1875/1875 [==============================] - 5s 2ms/step - loss: 0.2505 - accuracy: 0.9082 - val_loss: 0.3620 - val_accuracy: 0.8834\n",
            "Epoch 31/50\n",
            "1875/1875 [==============================] - 5s 2ms/step - loss: 0.2462 - accuracy: 0.9111 - val_loss: 0.3480 - val_accuracy: 0.8815\n",
            "Epoch 32/50\n",
            "1875/1875 [==============================] - 5s 2ms/step - loss: 0.2422 - accuracy: 0.9113 - val_loss: 0.3436 - val_accuracy: 0.8850\n",
            "Epoch 33/50\n",
            "1875/1875 [==============================] - 5s 2ms/step - loss: 0.2404 - accuracy: 0.9121 - val_loss: 0.3437 - val_accuracy: 0.8808\n",
            "Epoch 34/50\n",
            "1875/1875 [==============================] - 5s 2ms/step - loss: 0.2385 - accuracy: 0.9131 - val_loss: 0.3492 - val_accuracy: 0.8838\n",
            "Epoch 35/50\n",
            "1875/1875 [==============================] - 5s 2ms/step - loss: 0.2329 - accuracy: 0.9152 - val_loss: 0.3411 - val_accuracy: 0.8863\n",
            "Epoch 36/50\n",
            "1875/1875 [==============================] - 5s 3ms/step - loss: 0.2310 - accuracy: 0.9153 - val_loss: 0.3494 - val_accuracy: 0.8835\n",
            "Epoch 37/50\n",
            "1875/1875 [==============================] - 5s 3ms/step - loss: 0.2325 - accuracy: 0.9151 - val_loss: 0.3342 - val_accuracy: 0.8910\n",
            "Epoch 38/50\n",
            "1875/1875 [==============================] - 5s 2ms/step - loss: 0.2261 - accuracy: 0.9167 - val_loss: 0.3644 - val_accuracy: 0.8833\n",
            "Epoch 39/50\n",
            "1875/1875 [==============================] - 5s 2ms/step - loss: 0.2217 - accuracy: 0.9185 - val_loss: 0.3563 - val_accuracy: 0.8855\n",
            "Epoch 40/50\n",
            "1875/1875 [==============================] - 5s 2ms/step - loss: 0.2231 - accuracy: 0.9196 - val_loss: 0.3365 - val_accuracy: 0.8880\n",
            "Epoch 41/50\n",
            "1875/1875 [==============================] - 5s 2ms/step - loss: 0.2187 - accuracy: 0.9207 - val_loss: 0.3422 - val_accuracy: 0.8900\n",
            "Epoch 42/50\n",
            "1875/1875 [==============================] - 5s 2ms/step - loss: 0.2178 - accuracy: 0.9214 - val_loss: 0.3481 - val_accuracy: 0.8886\n",
            "Epoch 43/50\n",
            "1875/1875 [==============================] - 5s 2ms/step - loss: 0.2188 - accuracy: 0.9198 - val_loss: 0.3358 - val_accuracy: 0.8876\n",
            "Epoch 44/50\n",
            "1875/1875 [==============================] - 5s 2ms/step - loss: 0.2147 - accuracy: 0.9217 - val_loss: 0.3435 - val_accuracy: 0.8871\n",
            "Epoch 45/50\n",
            "1875/1875 [==============================] - 5s 2ms/step - loss: 0.2082 - accuracy: 0.9247 - val_loss: 0.3384 - val_accuracy: 0.8872\n",
            "Epoch 46/50\n",
            "1875/1875 [==============================] - 5s 2ms/step - loss: 0.2078 - accuracy: 0.9241 - val_loss: 0.3476 - val_accuracy: 0.8897\n",
            "Epoch 47/50\n",
            "1875/1875 [==============================] - 5s 2ms/step - loss: 0.2082 - accuracy: 0.9246 - val_loss: 0.3401 - val_accuracy: 0.8918\n",
            "Epoch 48/50\n",
            "1875/1875 [==============================] - 5s 2ms/step - loss: 0.2025 - accuracy: 0.9249 - val_loss: 0.3514 - val_accuracy: 0.8914\n",
            "Epoch 49/50\n",
            "1875/1875 [==============================] - 5s 2ms/step - loss: 0.2007 - accuracy: 0.9264 - val_loss: 0.3620 - val_accuracy: 0.8890\n",
            "Epoch 50/50\n",
            "1875/1875 [==============================] - 5s 2ms/step - loss: 0.2002 - accuracy: 0.9261 - val_loss: 0.3589 - val_accuracy: 0.8888\n"
          ],
          "name": "stdout"
        }
      ]
    },
    {
      "cell_type": "code",
      "metadata": {
        "id": "rMPfIfD--XT2",
        "colab_type": "code",
        "colab": {
          "base_uri": "https://localhost:8080/",
          "height": 320
        },
        "outputId": "dadaf4ed-b0ca-4d90-c118-909d42702a4e"
      },
      "source": [
        "pd.DataFrame(history2.history).plot(figsize=(8,5))\n",
        "plt.grid(True)\n",
        "plt.show()"
      ],
      "execution_count": null,
      "outputs": [
        {
          "output_type": "display_data",
          "data": {
            "image/png": "[encoded data removed]",
            "text/plain": [
              "<Figure size 576x360 with 1 Axes>"
            ]
          },
          "metadata": {
            "tags": [],
            "needs_background": "light"
          }
        }
      ]
    },
    {
      "cell_type": "markdown",
      "metadata": {
        "id": "RdBPjemFANei",
        "colab_type": "text"
      },
      "source": [
        "## 실제 과정을 코드로 짜는 과정\n",
        "- mnist 데이터"
      ]
    },
    {
      "cell_type": "code",
      "metadata": {
        "id": "qERibP-e_l_M",
        "colab_type": "code",
        "colab": {}
      },
      "source": [
        "import tensorflow as tf"
      ],
      "execution_count": null,
      "outputs": []
    },
    {
      "cell_type": "code",
      "metadata": {
        "id": "H1jWmZdBAUWc",
        "colab_type": "code",
        "colab": {}
      },
      "source": [
        "(x_train,y_train),(x_test,y_test)=tf.keras.datasets.mnist.load_data()\n",
        "x_train,x_test=x_train/255.0,x_test/255.0"
      ],
      "execution_count": null,
      "outputs": []
    },
    {
      "cell_type": "code",
      "metadata": {
        "id": "1zIr7AV4Ab5N",
        "colab_type": "code",
        "colab": {
          "base_uri": "https://localhost:8080/",
          "height": 35
        },
        "outputId": "de8477d0-cd7b-4c39-82c8-3161a935d12c"
      },
      "source": [
        "x_train.shape"
      ],
      "execution_count": null,
      "outputs": [
        {
          "output_type": "execute_result",
          "data": {
            "text/plain": [
              "(60000, 28, 28)"
            ]
          },
          "metadata": {
            "tags": []
          },
          "execution_count": 84
        }
      ]
    },
    {
      "cell_type": "code",
      "metadata": {
        "id": "FYIosKfZDcc7",
        "colab_type": "code",
        "colab": {}
      },
      "source": [
        "# x_train shape=>(60000, 28, 28)  \n",
        "# 실험에 사용할 첫번째 train image를 가져와서 shape 조절해주어야함\n",
        "\n",
        "image=x_train[0]\n",
        "image=image[tf.newaxis, ... ,tf.newaxis]"
      ],
      "execution_count": null,
      "outputs": []
    },
    {
      "cell_type": "code",
      "metadata": {
        "id": "mYqyuA_tBF_B",
        "colab_type": "code",
        "colab": {
          "base_uri": "https://localhost:8080/",
          "height": 35
        },
        "outputId": "37fbfe23-8372-4a2c-b219-9ca6a4b15c21"
      },
      "source": [
        "image.shape"
      ],
      "execution_count": null,
      "outputs": [
        {
          "output_type": "execute_result",
          "data": {
            "text/plain": [
              "(1, 28, 28, 1)"
            ]
          },
          "metadata": {
            "tags": []
          },
          "execution_count": 86
        }
      ]
    },
    {
      "cell_type": "code",
      "metadata": {
        "id": "_Y3XXhsxAmTS",
        "colab_type": "code",
        "colab": {}
      },
      "source": [
        "conv_layer1=tf.keras.layers.Conv2D(6,(5,5),activation='sigmoid',input_shape=(28,28,1))"
      ],
      "execution_count": null,
      "outputs": []
    },
    {
      "cell_type": "code",
      "metadata": {
        "id": "VOgLmjeyA0YT",
        "colab_type": "code",
        "colab": {}
      },
      "source": [
        "image=tf.cast(image,dtype=tf.float32)"
      ],
      "execution_count": null,
      "outputs": []
    },
    {
      "cell_type": "code",
      "metadata": {
        "id": "og-v-4-_A0yq",
        "colab_type": "code",
        "colab": {
          "base_uri": "https://localhost:8080/",
          "height": 1000
        },
        "outputId": "bf307584-8b0f-4999-f9a9-15c7dd6f108d"
      },
      "source": [
        "out1=conv_layer1(image)\n",
        "out1"
      ],
      "execution_count": null,
      "outputs": [
        {
          "output_type": "execute_result",
          "data": {
            "text/plain": [
              "<tf.Tensor: shape=(1, 24, 24, 6), dtype=float32, numpy=\n",
              "array([[[[0.49999046, 0.499995  , 0.4999907 , 0.4999951 , 0.49999797,\n",
              "          0.49999976],\n",
              "         [0.49999905, 0.49999702, 0.4999972 , 0.49999452, 0.499999  ,\n",
              "          0.5       ],\n",
              "         [0.5000003 , 0.49999964, 0.49999976, 0.49999928, 0.49999917,\n",
              "          0.49999958],\n",
              "         ...,\n",
              "         [0.4999994 , 0.5000005 , 0.49999928, 0.500001  , 0.49999952,\n",
              "          0.5000004 ],\n",
              "         [0.49999547, 0.5000004 , 0.49999928, 0.49999976, 0.50000054,\n",
              "          0.5000002 ],\n",
              "         [0.5000043 , 0.5000002 , 0.49999928, 0.50000024, 0.4999957 ,\n",
              "          0.5       ]],\n",
              "\n",
              "        [[0.5000018 , 0.50000226, 0.5000111 , 0.500003  , 0.5000008 ,\n",
              "          0.4999988 ],\n",
              "         [0.50000197, 0.5000008 , 0.5000043 , 0.50000143, 0.5000005 ,\n",
              "          0.499999  ],\n",
              "         [0.5000005 , 0.5000005 , 0.5000019 , 0.50000066, 0.49999988,\n",
              "          0.49999946],\n",
              "         ...,\n",
              "         [0.49136046, 0.53500485, 0.4258022 , 0.43312463, 0.48248065,\n",
              "          0.5036884 ],\n",
              "         [0.5104382 , 0.53663504, 0.44032764, 0.46698102, 0.46616513,\n",
              "          0.49910754],\n",
              "         [0.5111427 , 0.5076504 , 0.47941652, 0.49228725, 0.48029968,\n",
              "          0.49739084]],\n",
              "\n",
              "        [[0.49999845, 0.49999893, 0.4999956 , 0.49999672, 0.4999984 ,\n",
              "          0.4999994 ],\n",
              "         [0.49999976, 0.49999982, 0.49999905, 0.49999976, 0.50000036,\n",
              "          0.5000003 ],\n",
              "         [0.50000006, 0.49999988, 0.4999994 , 0.4999994 , 0.49999988,\n",
              "          0.49999988],\n",
              "         ...,\n",
              "         [0.49391377, 0.5714332 , 0.49423215, 0.46594065, 0.4783611 ,\n",
              "          0.58943915],\n",
              "         [0.4774527 , 0.5369796 , 0.503167  , 0.50324106, 0.48367044,\n",
              "          0.56251484],\n",
              "         [0.48347414, 0.5105955 , 0.5073706 , 0.5166376 , 0.49550825,\n",
              "          0.5206895 ]],\n",
              "\n",
              "        ...,\n",
              "\n",
              "        [[0.4959444 , 0.5265058 , 0.49046618, 0.48334995, 0.4739782 ,\n",
              "          0.51413643],\n",
              "         [0.5107863 , 0.5339278 , 0.47903293, 0.45208046, 0.4362412 ,\n",
              "          0.5351685 ],\n",
              "         [0.5594401 , 0.5305362 , 0.47418985, 0.4347366 , 0.42445442,\n",
              "          0.5354782 ],\n",
              "         ...,\n",
              "         [0.5       , 0.5       , 0.5       , 0.5       , 0.5       ,\n",
              "          0.5       ],\n",
              "         [0.5       , 0.5       , 0.5       , 0.5       , 0.5       ,\n",
              "          0.5       ],\n",
              "         [0.5       , 0.5       , 0.5       , 0.5       , 0.5       ,\n",
              "          0.5       ]],\n",
              "\n",
              "        [[0.48745126, 0.52650326, 0.50087184, 0.4786648 , 0.49005738,\n",
              "          0.50813353],\n",
              "         [0.4903647 , 0.54842055, 0.4885254 , 0.43632054, 0.51359844,\n",
              "          0.50878567],\n",
              "         [0.50981736, 0.54508966, 0.45749465, 0.41731375, 0.53630406,\n",
              "          0.48380992],\n",
              "         ...,\n",
              "         [0.5       , 0.5       , 0.5       , 0.5       , 0.5       ,\n",
              "          0.5       ],\n",
              "         [0.5       , 0.5       , 0.5       , 0.5       , 0.5       ,\n",
              "          0.5       ],\n",
              "         [0.5       , 0.5       , 0.5       , 0.5       , 0.5       ,\n",
              "          0.5       ]],\n",
              "\n",
              "        [[0.51605487, 0.51758176, 0.4957574 , 0.490474  , 0.50586885,\n",
              "          0.5058742 ],\n",
              "         [0.5333249 , 0.54484195, 0.47135538, 0.48941156, 0.5196399 ,\n",
              "          0.5073422 ],\n",
              "         [0.5313462 , 0.5440695 , 0.43318725, 0.5144061 , 0.51903725,\n",
              "          0.52154666],\n",
              "         ...,\n",
              "         [0.5       , 0.5       , 0.5       , 0.5       , 0.5       ,\n",
              "          0.5       ],\n",
              "         [0.5       , 0.5       , 0.5       , 0.5       , 0.5       ,\n",
              "          0.5       ],\n",
              "         [0.5       , 0.5       , 0.5       , 0.5       , 0.5       ,\n",
              "          0.5       ]]]], dtype=float32)>"
            ]
          },
          "metadata": {
            "tags": []
          },
          "execution_count": 89
        }
      ]
    },
    {
      "cell_type": "code",
      "metadata": {
        "id": "FunUdM5-E1Ju",
        "colab_type": "code",
        "colab": {
          "base_uri": "https://localhost:8080/",
          "height": 35
        },
        "outputId": "e8785ae9-fe3e-4ca3-e480-d96dea820ff7"
      },
      "source": [
        "#layer의 weight를 가져오는 함수\n",
        "conv_layer1.get_weights()[0].shape,conv_layer1.get_weights()[1].shape"
      ],
      "execution_count": null,
      "outputs": [
        {
          "output_type": "execute_result",
          "data": {
            "text/plain": [
              "((5, 5, 1, 6), (6,))"
            ]
          },
          "metadata": {
            "tags": []
          },
          "execution_count": 92
        }
      ]
    },
    {
      "cell_type": "code",
      "metadata": {
        "id": "xkzRnQfjPpGk",
        "colab_type": "code",
        "colab": {
          "base_uri": "https://localhost:8080/",
          "height": 106
        },
        "outputId": "92af8343-8001-47be-a7d3-841979c9f389"
      },
      "source": [
        "print(conv_layer1.get_weights()[0][:,:,0,0])"
      ],
      "execution_count": null,
      "outputs": [
        {
          "output_type": "stream",
          "text": [
            "[[-0.16005483 -0.1344679   0.1655728  -0.12821206  0.18068428]\n",
            " [-0.1000622   0.15249439 -0.03077918 -0.01455826  0.04741356]\n",
            " [ 0.06825291  0.14701076  0.05545111  0.08449821 -0.11334219]\n",
            " [-0.17788924  0.07280008  0.17179663  0.16137557  0.01542741]\n",
            " [ 0.08951364 -0.09024516 -0.07360438  0.17611758 -0.12198515]]\n"
          ],
          "name": "stdout"
        }
      ]
    },
    {
      "cell_type": "code",
      "metadata": {
        "id": "t_5aif2FNjck",
        "colab_type": "code",
        "colab": {
          "base_uri": "https://localhost:8080/",
          "height": 1000
        },
        "outputId": "a79768f3-24e9-412d-8a8d-426b32375949"
      },
      "source": [
        "conv_layer1.get_weights()[0]"
      ],
      "execution_count": null,
      "outputs": [
        {
          "output_type": "execute_result",
          "data": {
            "text/plain": [
              "array([[[[-0.16005483, -0.07339787, -0.13810483, -0.17827217,\n",
              "          -0.04952995,  0.04098155]],\n",
              "\n",
              "        [[-0.1344679 , -0.04105157, -0.16248646,  0.02817525,\n",
              "           0.07736082,  0.02749394]],\n",
              "\n",
              "        [[ 0.1655728 , -0.1625518 , -0.07480292, -0.03350435,\n",
              "           0.04150985,  0.16123118]],\n",
              "\n",
              "        [[-0.12821206, -0.00789742, -0.18512906,  0.11494686,\n",
              "           0.14490627,  0.17364924]],\n",
              "\n",
              "        [[ 0.18068428, -0.06983992,  0.04307467,  0.12158664,\n",
              "          -0.17130792, -0.12015029]]],\n",
              "\n",
              "\n",
              "       [[[-0.1000622 ,  0.09477259, -0.02146493,  0.16280694,\n",
              "           0.15635376,  0.03383921]],\n",
              "\n",
              "        [[ 0.15249439,  0.10053892, -0.1092653 ,  0.06452698,\n",
              "          -0.01204918, -0.03540292]],\n",
              "\n",
              "        [[-0.03077918, -0.01812878, -0.02806242,  0.10133855,\n",
              "          -0.15942416, -0.0297036 ]],\n",
              "\n",
              "        [[-0.01455826,  0.13083513, -0.10293768, -0.05516009,\n",
              "           0.09468724, -0.03550997]],\n",
              "\n",
              "        [[ 0.04741356,  0.16013323, -0.04932369, -0.12069669,\n",
              "           0.11328988,  0.09262268]]],\n",
              "\n",
              "\n",
              "       [[[ 0.06825291,  0.02338372, -0.1762665 ,  0.07320224,\n",
              "           0.10905696, -0.03823224]],\n",
              "\n",
              "        [[ 0.14701076, -0.08173838, -0.13151515, -0.05008584,\n",
              "          -0.05376312,  0.04418786]],\n",
              "\n",
              "        [[ 0.05545111, -0.06364325, -0.09269299, -0.02285722,\n",
              "           0.00723764, -0.09622432]],\n",
              "\n",
              "        [[ 0.08449821, -0.14078906, -0.03138576, -0.09825599,\n",
              "           0.14439373, -0.08073268]],\n",
              "\n",
              "        [[-0.11334219,  0.13419913,  0.02650951, -0.11126584,\n",
              "          -0.12038877,  0.02357063]]],\n",
              "\n",
              "\n",
              "       [[[-0.17788924,  0.05414945,  0.14255603,  0.16489558,\n",
              "           0.04371263,  0.1768264 ]],\n",
              "\n",
              "        [[ 0.07280008,  0.00956465,  0.08270921, -0.12642951,\n",
              "           0.00885513,  0.17607354]],\n",
              "\n",
              "        [[ 0.17179663,  0.15619074,  0.04571171,  0.04907034,\n",
              "          -0.08632229,  0.01380374]],\n",
              "\n",
              "        [[ 0.16137557, -0.12711109, -0.02512172, -0.031298  ,\n",
              "          -0.11412208,  0.08750702]],\n",
              "\n",
              "        [[ 0.01542741,  0.1446922 , -0.08228809, -0.07996409,\n",
              "          -0.14665367,  0.09650667]]],\n",
              "\n",
              "\n",
              "       [[[ 0.08951364,  0.06144227, -0.16540208, -0.06195248,\n",
              "          -0.15831538, -0.02095968]],\n",
              "\n",
              "        [[-0.09024516,  0.17526998, -0.15986204, -0.14509115,\n",
              "           0.03574546,  0.03359349]],\n",
              "\n",
              "        [[-0.07360438, -0.18265058,  0.04267496, -0.13377184,\n",
              "           0.10759033,  0.00637044]],\n",
              "\n",
              "        [[ 0.17611758, -0.05615361, -0.16559024, -0.12545635,\n",
              "           0.17707528,  0.01084879]],\n",
              "\n",
              "        [[-0.12198515,  0.1483853 , -0.14892563, -0.08929596,\n",
              "           0.0247885 , -0.13025486]]]], dtype=float32)"
            ]
          },
          "metadata": {
            "tags": []
          },
          "execution_count": 126
        }
      ]
    },
    {
      "cell_type": "code",
      "metadata": {
        "id": "iDILdwGJF4_B",
        "colab_type": "code",
        "colab": {}
      },
      "source": [
        "weights1=conv_layer1.get_weights()[0]"
      ],
      "execution_count": null,
      "outputs": []
    },
    {
      "cell_type": "code",
      "metadata": {
        "id": "-q9RX48qNaIF",
        "colab_type": "code",
        "colab": {
          "base_uri": "https://localhost:8080/",
          "height": 124
        },
        "outputId": "980850e5-2472-487a-c0f6-33193f15e6fb"
      },
      "source": [
        "weights1[:,:,0,0]"
      ],
      "execution_count": null,
      "outputs": [
        {
          "output_type": "execute_result",
          "data": {
            "text/plain": [
              "array([[-0.16005483, -0.1344679 ,  0.1655728 , -0.12821206,  0.18068428],\n",
              "       [-0.1000622 ,  0.15249439, -0.03077918, -0.01455826,  0.04741356],\n",
              "       [ 0.06825291,  0.14701076,  0.05545111,  0.08449821, -0.11334219],\n",
              "       [-0.17788924,  0.07280008,  0.17179663,  0.16137557,  0.01542741],\n",
              "       [ 0.08951364, -0.09024516, -0.07360438,  0.17611758, -0.12198515]],\n",
              "      dtype=float32)"
            ]
          },
          "metadata": {
            "tags": []
          },
          "execution_count": 125
        }
      ]
    },
    {
      "cell_type": "code",
      "metadata": {
        "id": "Beavzf9_GS5d",
        "colab_type": "code",
        "colab": {
          "base_uri": "https://localhost:8080/",
          "height": 124
        },
        "outputId": "749dddfa-ab28-4913-8903-fa71b7f85158"
      },
      "source": [
        "weights1[:,:,0,1]"
      ],
      "execution_count": null,
      "outputs": [
        {
          "output_type": "execute_result",
          "data": {
            "text/plain": [
              "array([[-0.07339787, -0.04105157, -0.1625518 , -0.00789742, -0.06983992],\n",
              "       [ 0.09477259,  0.10053892, -0.01812878,  0.13083513,  0.16013323],\n",
              "       [ 0.02338372, -0.08173838, -0.06364325, -0.14078906,  0.13419913],\n",
              "       [ 0.05414945,  0.00956465,  0.15619074, -0.12711109,  0.1446922 ],\n",
              "       [ 0.06144227,  0.17526998, -0.18265058, -0.05615361,  0.1483853 ]],\n",
              "      dtype=float32)"
            ]
          },
          "metadata": {
            "tags": []
          },
          "execution_count": 94
        }
      ]
    },
    {
      "cell_type": "code",
      "metadata": {
        "id": "e1dodn_uGV7P",
        "colab_type": "code",
        "colab": {
          "base_uri": "https://localhost:8080/",
          "height": 35
        },
        "outputId": "27cf2398-275b-4940-f95d-6920544abb6e"
      },
      "source": [
        "# 필터 사이즈 확인\n",
        "weights1[:,:,0,1].shape"
      ],
      "execution_count": null,
      "outputs": [
        {
          "output_type": "execute_result",
          "data": {
            "text/plain": [
              "(5, 5)"
            ]
          },
          "metadata": {
            "tags": []
          },
          "execution_count": 95
        }
      ]
    },
    {
      "cell_type": "code",
      "metadata": {
        "id": "R14nnrcRGjou",
        "colab_type": "code",
        "colab": {
          "base_uri": "https://localhost:8080/",
          "height": 283
        },
        "outputId": "ccac1976-5bf0-4af3-e17d-51f8dedb2bae"
      },
      "source": [
        "#필터 한장을 이미지로 보여줌\n",
        "plt.imshow(weights1[:,:,0,1],cmap='gray')"
      ],
      "execution_count": null,
      "outputs": [
        {
          "output_type": "execute_result",
          "data": {
            "text/plain": [
              "<matplotlib.image.AxesImage at 0x7fdf9124c6a0>"
            ]
          },
          "metadata": {
            "tags": []
          },
          "execution_count": 99
        },
        {
          "output_type": "display_data",
          "data": {
            "image/png": "[encoded data removed]",
            "text/plain": [
              "<Figure size 432x288 with 1 Axes>"
            ]
          },
          "metadata": {
            "tags": [],
            "needs_background": "light"
          }
        }
      ]
    },
    {
      "cell_type": "code",
      "metadata": {
        "id": "6gCRoiCDGYgS",
        "colab_type": "code",
        "colab": {
          "base_uri": "https://localhost:8080/",
          "height": 90
        },
        "outputId": "29652c61-c0d0-43cf-cdef-fe37f97215d9"
      },
      "source": [
        "#결과 확인\n",
        "#subplot\n",
        "fig,axs=plt.subplots(1,6)\n",
        "\n",
        "for i in range(1):\n",
        "    for j in range(6):\n",
        "        axs[j].imshow(weights1[:,:,i,j],cmap='gray')\n",
        "        axs[j].axis('off')#축의 값을 표현하지 않는것\n",
        "\n",
        "plt.tight_layout()\n"
      ],
      "execution_count": null,
      "outputs": [
        {
          "output_type": "display_data",
          "data": {
            "image/png": "[encoded data removed]",
            "text/plain": [
              "<Figure size 432x288 with 6 Axes>"
            ]
          },
          "metadata": {
            "tags": [],
            "needs_background": "light"
          }
        }
      ]
    },
    {
      "cell_type": "code",
      "metadata": {
        "id": "z99Kh8X-HR5g",
        "colab_type": "code",
        "colab": {
          "base_uri": "https://localhost:8080/",
          "height": 297
        },
        "outputId": "e04ff0f3-234f-4d84-e683-22f715d66ecf"
      },
      "source": [
        "#2행3열로 표현하는거\n",
        "fig,axs=plt.subplots(2,3)\n",
        "for i in range(2):\n",
        "    for j in range(3):\n",
        "        axs[i][j].imshow(weights1[:,:,0,(i*3)+j],cmap='gray')\n",
        "        axs[i][j].axis('off')\n",
        "plt.tight_layout()"
      ],
      "execution_count": null,
      "outputs": [
        {
          "output_type": "display_data",
          "data": {
            "image/png": "[encoded data removed]",
            "text/plain": [
              "<Figure size 432x288 with 6 Axes>"
            ]
          },
          "metadata": {
            "tags": [],
            "needs_background": "light"
          }
        }
      ]
    },
    {
      "cell_type": "code",
      "metadata": {
        "id": "MsQpErXYIRca",
        "colab_type": "code",
        "colab": {
          "base_uri": "https://localhost:8080/",
          "height": 35
        },
        "outputId": "56af6216-08ea-4ffc-f086-0a2f71c921ef"
      },
      "source": [
        "out1[0,:,:,0].shape # 필터 돌고 나와서 크기가 줄었다"
      ],
      "execution_count": null,
      "outputs": [
        {
          "output_type": "execute_result",
          "data": {
            "text/plain": [
              "TensorShape([24, 24])"
            ]
          },
          "metadata": {
            "tags": []
          },
          "execution_count": 114
        }
      ]
    },
    {
      "cell_type": "code",
      "metadata": {
        "id": "YK5ZJ5GIIrPm",
        "colab_type": "code",
        "colab": {
          "base_uri": "https://localhost:8080/",
          "height": 283
        },
        "outputId": "86951bca-7af7-4635-9329-a3519465862f"
      },
      "source": [
        "plt.imshow(out1[0,:,:,0],cmap='gray')"
      ],
      "execution_count": null,
      "outputs": [
        {
          "output_type": "execute_result",
          "data": {
            "text/plain": [
              "<matplotlib.image.AxesImage at 0x7fdf910da320>"
            ]
          },
          "metadata": {
            "tags": []
          },
          "execution_count": 117
        },
        {
          "output_type": "display_data",
          "data": {
            "image/png": "[encoded data removed]",
            "text/plain": [
              "<Figure size 432x288 with 1 Axes>"
            ]
          },
          "metadata": {
            "tags": [],
            "needs_background": "light"
          }
        }
      ]
    },
    {
      "cell_type": "code",
      "metadata": {
        "id": "F91E9xCxIvvJ",
        "colab_type": "code",
        "colab": {
          "base_uri": "https://localhost:8080/",
          "height": 128
        },
        "outputId": "25ad9c15-1058-476b-bfce-8a2742cd15dd"
      },
      "source": [
        "#잘못 돌려서 맨위 시작 한줄만 나와서 신기해서..\n",
        "fig,axs=plt.subplots(2,3)\n",
        "for i in range(2):\n",
        "    for j in range(3):\n",
        "        axs[i][j].imshow(out1[:,:,0,(i*3)+j],cmap='gray')\n",
        "        axs[i][j].axis('off')\n",
        "plt.tight_layout()"
      ],
      "execution_count": null,
      "outputs": [
        {
          "output_type": "display_data",
          "data": {
            "image/png": "[encoded data removed]",
            "text/plain": [
              "<Figure size 432x288 with 6 Axes>"
            ]
          },
          "metadata": {
            "tags": [],
            "needs_background": "light"
          }
        }
      ]
    },
    {
      "cell_type": "code",
      "metadata": {
        "id": "mCm6X55ZJ7De",
        "colab_type": "code",
        "colab": {
          "base_uri": "https://localhost:8080/",
          "height": 297
        },
        "outputId": "2145f1dc-3378-4630-8618-b90f202ef88c"
      },
      "source": [
        "fig,axs=plt.subplots(2,3)\n",
        "for i in range(2):\n",
        "    for j in range(3):\n",
        "        axs[i][j].imshow(out1[0,:,:,(i*3)+j],cmap='gray')\n",
        "        axs[i][j].axis('off')\n",
        "plt.tight_layout()"
      ],
      "execution_count": null,
      "outputs": [
        {
          "output_type": "display_data",
          "data": {
            "image/png": "[encoded data removed]",
            "text/plain": [
              "<Figure size 432x288 with 6 Axes>"
            ]
          },
          "metadata": {
            "tags": [],
            "needs_background": "light"
          }
        }
      ]
    },
    {
      "cell_type": "code",
      "metadata": {
        "id": "GdZl5pvSKER9",
        "colab_type": "code",
        "colab": {}
      },
      "source": [
        ""
      ],
      "execution_count": null,
      "outputs": []
    }
  ]
}
